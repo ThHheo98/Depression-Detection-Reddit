{
  "nbformat": 4,
  "nbformat_minor": 0,
  "metadata": {
    "colab": {
      "name": "sup-fast-text.ipynb",
      "provenance": [],
      "collapsed_sections": []
    },
    "kernelspec": {
      "display_name": "Python 3",
      "name": "python3"
    },
    "language_info": {
      "name": "python"
    }
  },
  "cells": [
    {
      "cell_type": "code",
      "metadata": {
        "colab": {
          "base_uri": "https://localhost:8080/"
        },
        "id": "A_cDb_cZz4nA",
        "outputId": "0b290775-814b-48d2-d992-244da6c939c9"
      },
      "source": [
        "from google.colab import drive\n",
        "drive.mount(\"/content/gdrive\")"
      ],
      "execution_count": null,
      "outputs": [
        {
          "output_type": "stream",
          "text": [
            "Mounted at /content/gdrive\n"
          ],
          "name": "stdout"
        }
      ]
    },
    {
      "cell_type": "code",
      "metadata": {
        "colab": {
          "base_uri": "https://localhost:8080/"
        },
        "id": "YWr4o4z2oOvM",
        "outputId": "16fc02a7-44ed-47c6-ca2f-63fa1cea8f1e"
      },
      "source": [
        "import pandas as pd\n",
        "import os\n",
        "print(os.getcwd())\n",
        "#os.chdir(\"/content/gdrive/Shared with me/offmychest/\")\n",
        "os.chdir(\"/content/gdrive/My Drive/offmychest/data_theo/\")\n",
        "print(os.getcwd())\n"
      ],
      "execution_count": null,
      "outputs": [
        {
          "output_type": "stream",
          "text": [
            "/content/gdrive/My Drive/offmychest/data_theo/fastText-0.9.2\n",
            "/content/gdrive/My Drive/offmychest/data_theo\n"
          ],
          "name": "stdout"
        }
      ]
    },
    {
      "cell_type": "code",
      "metadata": {
        "id": "Ib3phpPrrqpH"
      },
      "source": [
        "import re\n",
        "import nltk"
      ],
      "execution_count": null,
      "outputs": []
    },
    {
      "cell_type": "markdown",
      "metadata": {
        "id": "dbekSY0tvE4p"
      },
      "source": [
        "##Preprocessing the Data\n",
        "\n",
        "Current state of the data: Author/Comment_Body/Label\n",
        "\n",
        "Labels are based on ?\n",
        "\n",
        "Assuming that they are based on whether or not the author is depressed, we need to:\n",
        "\n",
        "* Remove the Author column (alt: replace each unique username with a number)\n",
        "* Remove entries where Author is AutoModerator\n",
        "* For every entry in Comment_Body - convert to all lowercase, get rid of special characters, break into 500-word chunks if required"
      ]
    },
    {
      "cell_type": "code",
      "metadata": {
        "colab": {
          "base_uri": "https://localhost:8080/"
        },
        "id": "1Dz7Ox3othHF",
        "outputId": "7ebf9a78-f887-493d-a931-698d56837eb5"
      },
      "source": [
        "nltk.download('stopwords')"
      ],
      "execution_count": null,
      "outputs": [
        {
          "output_type": "stream",
          "text": [
            "[nltk_data] Downloading package stopwords to /root/nltk_data...\n",
            "[nltk_data]   Unzipping corpora/stopwords.zip.\n"
          ],
          "name": "stdout"
        },
        {
          "output_type": "execute_result",
          "data": {
            "text/plain": [
              "True"
            ]
          },
          "metadata": {
            "tags": []
          },
          "execution_count": 4
        }
      ]
    },
    {
      "cell_type": "code",
      "metadata": {
        "colab": {
          "base_uri": "https://localhost:8080/"
        },
        "id": "KnZoLqHYt2TK",
        "outputId": "128016c4-aa37-4a32-9fdb-997939611172"
      },
      "source": [
        "nltk.download('punkt')"
      ],
      "execution_count": null,
      "outputs": [
        {
          "output_type": "stream",
          "text": [
            "[nltk_data] Downloading package punkt to /root/nltk_data...\n",
            "[nltk_data]   Unzipping tokenizers/punkt.zip.\n"
          ],
          "name": "stdout"
        },
        {
          "output_type": "execute_result",
          "data": {
            "text/plain": [
              "True"
            ]
          },
          "metadata": {
            "tags": []
          },
          "execution_count": 5
        }
      ]
    },
    {
      "cell_type": "code",
      "metadata": {
        "id": "GsMcdvCvtujY"
      },
      "source": [
        "from nltk.corpus import stopwords"
      ],
      "execution_count": null,
      "outputs": []
    },
    {
      "cell_type": "code",
      "metadata": {
        "id": "k0pgFlKWqw0C"
      },
      "source": [
        "#load dictionary of english contractions\n",
        "contractions = pd.read_json('/content/gdrive/My Drive/offmychest/data_theo/contractions.json', typ='series')\n",
        "contractions = contractions.to_dict()"
      ],
      "execution_count": null,
      "outputs": []
    },
    {
      "cell_type": "code",
      "metadata": {
        "id": "oAOd1eOgrn6U"
      },
      "source": [
        "contractions_regular_expression = re.compile('(%s)' % '|'.join(contractions.keys()))\n",
        "symbols_regular_expression = re.compile('[^0-9a-z #+_]')\n",
        "link_regular_expression = re.compile('https\\S+|www\\S+|http\\S+')"
      ],
      "execution_count": null,
      "outputs": []
    },
    {
      "cell_type": "code",
      "metadata": {
        "id": "EeF_uYAfruYt"
      },
      "source": [
        "def expandContractions(text, c_re=contractions_regular_expression):\n",
        "    def replace(match):\n",
        "        return contractions[match.group(0)]\n",
        "    return c_re.sub(replace, text)"
      ],
      "execution_count": null,
      "outputs": []
    },
    {
      "cell_type": "code",
      "metadata": {
        "id": "NgGdFDKzsT-V"
      },
      "source": [
        "def clean_posts(posts):\n",
        "    cleaned_posts = []\n",
        "    for post in posts:\n",
        "        post = str(post)\n",
        "        post = post.lower()\n",
        "        post = symbols_regular_expression.sub(' ', post)\n",
        "        post = link_regular_expression.sub(' ', post)\n",
        "        post = expandContractions(post)\n",
        "        post = ' '.join(re.sub(\"([^0-9A-Za-z \\t])\", \" \", post).split())\n",
        "        stop_words = set(stopwords.words('english'))\n",
        "        word_tokens = nltk.word_tokenize(post) \n",
        "        #lemmatizer\n",
        "        # filtered_sentence = [stemmer.lemmatize(word) for word in word_tokens]\n",
        "        # filtered_sentence = [stemmer2.stem(word) for word in filtered_sentence]\n",
        "        # filtered_sentence = [w for w in filtered_sentence if not w in stop_words]\n",
        "        filtered_sentence = [w for w in word_tokens if not w in stop_words]\n",
        "        post = ' '.join(filtered_sentence)\n",
        "        \n",
        "        cleaned_posts.append(post)\n",
        "        \n",
        "    return cleaned_posts"
      ],
      "execution_count": null,
      "outputs": []
    },
    {
      "cell_type": "code",
      "metadata": {
        "colab": {
          "base_uri": "https://localhost:8080/",
          "height": 78
        },
        "id": "e5mfhYbZAUjc",
        "outputId": "4368519b-6ee6-4b70-d0fe-bb2c8201bfcb"
      },
      "source": [
        "data = pd.read_csv ('dataset.csv',engine='python')\n",
        "data.sample()"
      ],
      "execution_count": null,
      "outputs": [
        {
          "output_type": "execute_result",
          "data": {
            "text/html": [
              "<div>\n",
              "<style scoped>\n",
              "    .dataframe tbody tr th:only-of-type {\n",
              "        vertical-align: middle;\n",
              "    }\n",
              "\n",
              "    .dataframe tbody tr th {\n",
              "        vertical-align: top;\n",
              "    }\n",
              "\n",
              "    .dataframe thead th {\n",
              "        text-align: right;\n",
              "    }\n",
              "</style>\n",
              "<table border=\"1\" class=\"dataframe\">\n",
              "  <thead>\n",
              "    <tr style=\"text-align: right;\">\n",
              "      <th></th>\n",
              "      <th>Unnamed: 0</th>\n",
              "      <th>comment</th>\n",
              "      <th>label</th>\n",
              "    </tr>\n",
              "  </thead>\n",
              "  <tbody>\n",
              "    <tr>\n",
              "      <th>130186</th>\n",
              "      <td>130185</td>\n",
              "      <td>“Miami won the 1st round”</td>\n",
              "      <td>1.0</td>\n",
              "    </tr>\n",
              "  </tbody>\n",
              "</table>\n",
              "</div>"
            ],
            "text/plain": [
              "       Unnamed: 0                     comment  label\n",
              "130186     130185  “Miami won the 1st round”     1.0"
            ]
          },
          "metadata": {
            "tags": []
          },
          "execution_count": 46
        }
      ]
    },
    {
      "cell_type": "code",
      "metadata": {
        "id": "aEIo0cxAtPnr"
      },
      "source": [
        "X, y = [],[]\n",
        "for i in range(len(data)):\n",
        "  if len(data['comment'][i])>200 and 'bing bong' not in data['comment'][i]:\n",
        "    X.append(data['comment'][i])\n",
        "    y.append(data['label'][i])\n",
        "\n",
        "X = clean_posts([post for post in X])"
      ],
      "execution_count": null,
      "outputs": []
    },
    {
      "cell_type": "code",
      "metadata": {
        "colab": {
          "base_uri": "https://localhost:8080/"
        },
        "id": "6YO-XzJ6uZE1",
        "outputId": "15b8aeea-3bb9-4583-e9c4-f95b31b175df"
      },
      "source": [
        "X[:10]"
      ],
      "execution_count": null,
      "outputs": [
        {
          "output_type": "execute_result",
          "data": {
            "text/plain": [
              "['think one biggest issues people driving aces away community especially many us love trans gender attracted buddies aces usually find identity lgbt events spaces etc even separate necessarily agree definitely need maybe merge sense least work together like said battling exclusion hurting sides',\n",
              " 'actually yes everyone know lived grew mostly fond memories fact lot friends christian muslim people say loud pretty diverse',\n",
              " 'kratom subtle gives maybe 20min motivation improved mood whole euphoric recreational buzz part away 1 2hrs max antidepressant effects like less negative thoughts phenibut contrary king doses 4 6 g make super social happy motivated creative sadly phenibut addiction forming sense harmful kratom',\n",
              " 'would like see provision private women colleges hbcus want speak hbcu alum one know experiencing issues wcs worry public universities free remaining women colleges go already seeing institutions go co ed close high rates provide wonderful learning environment perhaps could check box students say interested would prefer types schools could factored selection process',\n",
              " 'hi sry lack info ive 5 life couldnt hold month miriad reasons cut guess communicating needs well hold needs whoever date much higher pedastool mine pretty much allowing needs shatter long happy dont know comminicate things im always fear say theres something im comfortable would either guilt triped anyway would leave right even shower love support tramuatizing really',\n",
              " 'people greatly abuse downvote button supposed used things disagree things spreading misinformation truly belong reddit disproportionately uk aus users generally really left leaning anything agreeable mainstream uk aus politics going get mass downvotes sense censorship',\n",
              " 'unless girl good time big dick bois highschool bf dick big enough hurt like hell able go way ever positions go far hurt big dick curse husband averagely sized dick uses well choose big dick anyday',\n",
              " 'book outdated lot modern research done look read women men book series shaunti jeff feldhahn done extensive research sides men women honestly learned lot men book saying',\n",
              " 'guess feel like handle variety topics well hobbies little stress consistently fewer mistakes would feel comfortable claiming fluency stands struggle adapting different formality levels even theory history classes kimono school hard level feel comfortable proud ability considering translate mind mindful translated might able consistent grammar speaking japanese best ability',\n",
              " 'turn away appointment entry least mega center garland person outside checking appointments temps waited outside line told people without appointment allowed inside maybe different places']"
            ]
          },
          "metadata": {
            "tags": []
          },
          "execution_count": 48
        }
      ]
    },
    {
      "cell_type": "code",
      "metadata": {
        "colab": {
          "base_uri": "https://localhost:8080/"
        },
        "id": "rtNXvdr4wIgs",
        "outputId": "4378716d-24e5-4579-efee-ed7d3c6d80c6"
      },
      "source": [
        "print(len(X))"
      ],
      "execution_count": null,
      "outputs": [
        {
          "output_type": "stream",
          "text": [
            "31356\n"
          ],
          "name": "stdout"
        }
      ]
    },
    {
      "cell_type": "markdown",
      "metadata": {
        "id": "JHMbajjHyxdy"
      },
      "source": [
        "#Simple Model\n"
      ]
    },
    {
      "cell_type": "code",
      "metadata": {
        "colab": {
          "base_uri": "https://localhost:8080/"
        },
        "id": "ApW5a6uzCRjs",
        "outputId": "998efc8a-7c1f-4d54-a569-9cbe87dea3e8"
      },
      "source": [
        "# Install Fasttext\n",
        "!wget https://github.com/facebookresearch/fastText/archive/v0.9.2.zip\n",
        "!unzip v0.9.2.zip\n",
        "\n",
        "#Move to the fastText directory and build it:\n",
        "\n",
        "%cd fastText-0.9.2\n",
        "# for command line tool :\n",
        "!make\n",
        "# for python bindings :\n",
        "!pip install .\n"
      ],
      "execution_count": null,
      "outputs": [
        {
          "output_type": "stream",
          "text": [
            "--2021-05-20 18:52:20--  https://github.com/facebookresearch/fastText/archive/v0.9.2.zip\n",
            "Resolving github.com (github.com)... 140.82.112.4\n",
            "Connecting to github.com (github.com)|140.82.112.4|:443... connected.\n",
            "HTTP request sent, awaiting response... 302 Found\n",
            "Location: https://codeload.github.com/facebookresearch/fastText/zip/v0.9.2 [following]\n",
            "--2021-05-20 18:52:21--  https://codeload.github.com/facebookresearch/fastText/zip/v0.9.2\n",
            "Resolving codeload.github.com (codeload.github.com)... 140.82.112.10\n",
            "Connecting to codeload.github.com (codeload.github.com)|140.82.112.10|:443... connected.\n",
            "HTTP request sent, awaiting response... 200 OK\n",
            "Length: unspecified [application/zip]\n",
            "Saving to: ‘v0.9.2.zip.3’\n",
            "\n",
            "v0.9.2.zip.3            [  <=>               ]   4.17M  11.4MB/s    in 0.4s    \n",
            "\n",
            "2021-05-20 18:52:21 (11.4 MB/s) - ‘v0.9.2.zip.3’ saved [4369852]\n",
            "\n",
            "Archive:  v0.9.2.zip\n",
            "5b5943c118b0ec5fb9cd8d20587de2b2d3966dfe\n",
            "replace fastText-0.9.2/.circleci/cmake_test.sh? [y]es, [n]o, [A]ll, [N]one, [r]ename: A\n",
            "  inflating: fastText-0.9.2/.circleci/cmake_test.sh  \n",
            "  inflating: fastText-0.9.2/.circleci/config.yml  \n",
            "  inflating: fastText-0.9.2/.circleci/gcc_test.sh  \n",
            "  inflating: fastText-0.9.2/.circleci/pip_test.sh  \n",
            "  inflating: fastText-0.9.2/.circleci/pull_data.sh  \n",
            "  inflating: fastText-0.9.2/.circleci/python_test.sh  \n",
            "  inflating: fastText-0.9.2/.circleci/run_locally.sh  \n",
            "  inflating: fastText-0.9.2/.circleci/setup_circleimg.sh  \n",
            "  inflating: fastText-0.9.2/.circleci/setup_debian.sh  \n",
            "  inflating: fastText-0.9.2/.gitignore  \n",
            "  inflating: fastText-0.9.2/CMakeLists.txt  \n",
            "  inflating: fastText-0.9.2/CODE_OF_CONDUCT.md  \n",
            "  inflating: fastText-0.9.2/CONTRIBUTING.md  \n",
            "  inflating: fastText-0.9.2/LICENSE  \n",
            "  inflating: fastText-0.9.2/MANIFEST.in  \n",
            "  inflating: fastText-0.9.2/Makefile  \n",
            "  inflating: fastText-0.9.2/README.md  \n",
            "  inflating: fastText-0.9.2/alignment/README.md  \n",
            "  inflating: fastText-0.9.2/alignment/align.py  \n",
            "  inflating: fastText-0.9.2/alignment/eval.py  \n",
            "  inflating: fastText-0.9.2/alignment/example.sh  \n",
            "  inflating: fastText-0.9.2/alignment/unsup_align.py  \n",
            "  inflating: fastText-0.9.2/alignment/unsup_multialign.py  \n",
            "  inflating: fastText-0.9.2/alignment/utils.py  \n",
            "  inflating: fastText-0.9.2/classification-example.sh  \n",
            "  inflating: fastText-0.9.2/classification-results.sh  \n",
            "  inflating: fastText-0.9.2/crawl/README.md  \n",
            "  inflating: fastText-0.9.2/crawl/dedup.cc  \n",
            "  inflating: fastText-0.9.2/crawl/download_crawl.sh  \n",
            "  inflating: fastText-0.9.2/crawl/filter_dedup.sh  \n",
            "  inflating: fastText-0.9.2/crawl/filter_utf8.cc  \n",
            "  inflating: fastText-0.9.2/crawl/process_wet_file.sh  \n",
            "  inflating: fastText-0.9.2/docs/aligned-vectors.md  \n",
            "  inflating: fastText-0.9.2/docs/api.md  \n",
            "  inflating: fastText-0.9.2/docs/autotune.md  \n",
            "  inflating: fastText-0.9.2/docs/cheatsheet.md  \n",
            "  inflating: fastText-0.9.2/docs/crawl-vectors.md  \n",
            "  inflating: fastText-0.9.2/docs/dataset.md  \n",
            "  inflating: fastText-0.9.2/docs/english-vectors.md  \n",
            "  inflating: fastText-0.9.2/docs/faqs.md  \n",
            "  inflating: fastText-0.9.2/docs/language-identification.md  \n",
            "  inflating: fastText-0.9.2/docs/options.md  \n",
            "  inflating: fastText-0.9.2/docs/pretrained-vectors.md  \n",
            "  inflating: fastText-0.9.2/docs/python-module.md  \n",
            "  inflating: fastText-0.9.2/docs/references.md  \n",
            "  inflating: fastText-0.9.2/docs/supervised-models.md  \n",
            "  inflating: fastText-0.9.2/docs/supervised-tutorial.md  \n",
            "  inflating: fastText-0.9.2/docs/support.md  \n",
            "  inflating: fastText-0.9.2/docs/unsupervised-tutorials.md  \n",
            "  inflating: fastText-0.9.2/docs/webassembly-module.md  \n",
            "  inflating: fastText-0.9.2/download_model.py  \n",
            "  inflating: fastText-0.9.2/eval.py  \n",
            "  inflating: fastText-0.9.2/fasttext.pc.in  \n",
            "  inflating: fastText-0.9.2/get-wikimedia.sh  \n",
            "  inflating: fastText-0.9.2/python/README.md  \n",
            "  inflating: fastText-0.9.2/python/README.rst  \n",
            "  inflating: fastText-0.9.2/python/benchmarks/README.rst  \n",
            "  inflating: fastText-0.9.2/python/benchmarks/get_word_vector.py  \n",
            "  inflating: fastText-0.9.2/python/doc/examples/FastTextEmbeddingBag.py  \n",
            "  inflating: fastText-0.9.2/python/doc/examples/bin_to_vec.py  \n",
            "  inflating: fastText-0.9.2/python/doc/examples/compute_accuracy.py  \n",
            "  inflating: fastText-0.9.2/python/doc/examples/get_vocab.py  \n",
            "  inflating: fastText-0.9.2/python/doc/examples/train_supervised.py  \n",
            "  inflating: fastText-0.9.2/python/doc/examples/train_unsupervised.py  \n",
            "  inflating: fastText-0.9.2/python/fasttext_module/fasttext/FastText.py  \n",
            "  inflating: fastText-0.9.2/python/fasttext_module/fasttext/__init__.py  \n",
            "  inflating: fastText-0.9.2/python/fasttext_module/fasttext/pybind/fasttext_pybind.cc  \n",
            "  inflating: fastText-0.9.2/python/fasttext_module/fasttext/tests/__init__.py  \n",
            "  inflating: fastText-0.9.2/python/fasttext_module/fasttext/tests/test_configurations.py  \n",
            "  inflating: fastText-0.9.2/python/fasttext_module/fasttext/tests/test_script.py  \n",
            "  inflating: fastText-0.9.2/python/fasttext_module/fasttext/util/__init__.py  \n",
            "  inflating: fastText-0.9.2/python/fasttext_module/fasttext/util/util.py  \n",
            "  inflating: fastText-0.9.2/quantization-example.sh  \n",
            "  inflating: fastText-0.9.2/reduce_model.py  \n",
            "  inflating: fastText-0.9.2/runtests.py  \n",
            "  inflating: fastText-0.9.2/scripts/kbcompletion/README.md  \n",
            "  inflating: fastText-0.9.2/scripts/kbcompletion/data.sh  \n",
            "  inflating: fastText-0.9.2/scripts/kbcompletion/eval.cpp  \n",
            "  inflating: fastText-0.9.2/scripts/kbcompletion/fb15k.sh  \n",
            "  inflating: fastText-0.9.2/scripts/kbcompletion/fb15k237.sh  \n",
            "  inflating: fastText-0.9.2/scripts/kbcompletion/svo.sh  \n",
            "  inflating: fastText-0.9.2/scripts/kbcompletion/wn18.sh  \n",
            "  inflating: fastText-0.9.2/scripts/quantization/quantization-results.sh  \n",
            " extracting: fastText-0.9.2/setup.cfg  \n",
            "  inflating: fastText-0.9.2/setup.py  \n",
            "  inflating: fastText-0.9.2/src/args.cc  \n",
            "  inflating: fastText-0.9.2/src/args.h  \n",
            "  inflating: fastText-0.9.2/src/autotune.cc  \n",
            "  inflating: fastText-0.9.2/src/autotune.h  \n",
            "  inflating: fastText-0.9.2/src/densematrix.cc  \n",
            "  inflating: fastText-0.9.2/src/densematrix.h  \n",
            "  inflating: fastText-0.9.2/src/dictionary.cc  \n",
            "  inflating: fastText-0.9.2/src/dictionary.h  \n",
            "  inflating: fastText-0.9.2/src/fasttext.cc  \n",
            "  inflating: fastText-0.9.2/src/fasttext.h  \n",
            "  inflating: fastText-0.9.2/src/loss.cc  \n",
            "  inflating: fastText-0.9.2/src/loss.h  \n",
            "  inflating: fastText-0.9.2/src/main.cc  \n",
            "  inflating: fastText-0.9.2/src/matrix.cc  \n",
            "  inflating: fastText-0.9.2/src/matrix.h  \n",
            "  inflating: fastText-0.9.2/src/meter.cc  \n",
            "  inflating: fastText-0.9.2/src/meter.h  \n",
            "  inflating: fastText-0.9.2/src/model.cc  \n",
            "  inflating: fastText-0.9.2/src/model.h  \n",
            "  inflating: fastText-0.9.2/src/productquantizer.cc  \n",
            "  inflating: fastText-0.9.2/src/productquantizer.h  \n",
            "  inflating: fastText-0.9.2/src/quantmatrix.cc  \n",
            "  inflating: fastText-0.9.2/src/quantmatrix.h  \n",
            "  inflating: fastText-0.9.2/src/real.h  \n",
            "  inflating: fastText-0.9.2/src/utils.cc  \n",
            "  inflating: fastText-0.9.2/src/utils.h  \n",
            "  inflating: fastText-0.9.2/src/vector.cc  \n",
            "  inflating: fastText-0.9.2/src/vector.h  \n",
            "  inflating: fastText-0.9.2/tests/fetch_test_data.sh  \n",
            "  inflating: fastText-0.9.2/webassembly/README.md  \n",
            "  inflating: fastText-0.9.2/webassembly/doc/examples/misc.html  \n",
            "  inflating: fastText-0.9.2/webassembly/doc/examples/predict.html  \n",
            "  inflating: fastText-0.9.2/webassembly/doc/examples/train_supervised.html  \n",
            "  inflating: fastText-0.9.2/webassembly/doc/examples/train_unsupervised.html  \n",
            "  inflating: fastText-0.9.2/webassembly/fasttext.js  \n",
            "  inflating: fastText-0.9.2/webassembly/fasttext_wasm.cc  \n",
            "  inflating: fastText-0.9.2/website/README.md  \n",
            "  inflating: fastText-0.9.2/website/blog/2016-08-18-blog-post.md  \n",
            "  inflating: fastText-0.9.2/website/blog/2017-05-02-blog-post.md  \n",
            "  inflating: fastText-0.9.2/website/blog/2017-10-02-blog-post.md  \n",
            "  inflating: fastText-0.9.2/website/blog/2019-06-25-blog-post.md  \n",
            "  inflating: fastText-0.9.2/website/core/Footer.js  \n",
            "  inflating: fastText-0.9.2/website/package.json  \n",
            "  inflating: fastText-0.9.2/website/pages/en/index.js  \n",
            "  inflating: fastText-0.9.2/website/sidebars.json  \n",
            "  inflating: fastText-0.9.2/website/siteConfig.js  \n",
            " extracting: fastText-0.9.2/website/static/docs/en/html/.classfasttext_1_1QMatrix-members.html.i4eKqy  \n",
            "  inflating: fastText-0.9.2/website/static/docs/en/html/annotated.html  \n",
            "  inflating: fastText-0.9.2/website/static/docs/en/html/annotated_dup.js  \n",
            "  inflating: fastText-0.9.2/website/static/docs/en/html/args_8cc.html  \n",
            "  inflating: fastText-0.9.2/website/static/docs/en/html/args_8h.html  \n",
            "  inflating: fastText-0.9.2/website/static/docs/en/html/args_8h.js  \n",
            "  inflating: fastText-0.9.2/website/static/docs/en/html/args_8h_source.html  \n",
            " extracting: fastText-0.9.2/website/static/docs/en/html/bc_s.png  \n",
            "  inflating: fastText-0.9.2/website/static/docs/en/html/bdwn.png  \n",
            "  inflating: fastText-0.9.2/website/static/docs/en/html/classes.html  \n",
            "  inflating: fastText-0.9.2/website/static/docs/en/html/classfasttext_1_1Args-members.html  \n",
            "  inflating: fastText-0.9.2/website/static/docs/en/html/classfasttext_1_1Args.html  \n",
            "  inflating: fastText-0.9.2/website/static/docs/en/html/classfasttext_1_1Args.js  \n",
            "  inflating: fastText-0.9.2/website/static/docs/en/html/classfasttext_1_1Dictionary-members.html  \n",
            "  inflating: fastText-0.9.2/website/static/docs/en/html/classfasttext_1_1Dictionary.html  \n",
            "  inflating: fastText-0.9.2/website/static/docs/en/html/classfasttext_1_1Dictionary.js  \n",
            "  inflating: fastText-0.9.2/website/static/docs/en/html/classfasttext_1_1FastText-members.html  \n",
            "  inflating: fastText-0.9.2/website/static/docs/en/html/classfasttext_1_1FastText.html  \n",
            "  inflating: fastText-0.9.2/website/static/docs/en/html/classfasttext_1_1FastText.js  \n",
            "  inflating: fastText-0.9.2/website/static/docs/en/html/classfasttext_1_1Matrix-members.html  \n",
            "  inflating: fastText-0.9.2/website/static/docs/en/html/classfasttext_1_1Matrix.html  \n",
            "  inflating: fastText-0.9.2/website/static/docs/en/html/classfasttext_1_1Matrix.js  \n",
            "  inflating: fastText-0.9.2/website/static/docs/en/html/classfasttext_1_1Model-members.html  \n",
            "  inflating: fastText-0.9.2/website/static/docs/en/html/classfasttext_1_1Model.html  \n",
            "  inflating: fastText-0.9.2/website/static/docs/en/html/classfasttext_1_1Model.js  \n",
            "  inflating: fastText-0.9.2/website/static/docs/en/html/classfasttext_1_1ProductQuantizer-members.html  \n",
            "  inflating: fastText-0.9.2/website/static/docs/en/html/classfasttext_1_1ProductQuantizer.html  \n",
            "  inflating: fastText-0.9.2/website/static/docs/en/html/classfasttext_1_1ProductQuantizer.js  \n",
            "  inflating: fastText-0.9.2/website/static/docs/en/html/classfasttext_1_1QMatrix-members.html  \n",
            "  inflating: fastText-0.9.2/website/static/docs/en/html/classfasttext_1_1QMatrix.html  \n",
            "  inflating: fastText-0.9.2/website/static/docs/en/html/classfasttext_1_1QMatrix.js  \n",
            "  inflating: fastText-0.9.2/website/static/docs/en/html/classfasttext_1_1Vector-members.html  \n",
            "  inflating: fastText-0.9.2/website/static/docs/en/html/classfasttext_1_1Vector.html  \n",
            "  inflating: fastText-0.9.2/website/static/docs/en/html/classfasttext_1_1Vector.js  \n",
            "  inflating: fastText-0.9.2/website/static/docs/en/html/closed.png  \n",
            "  inflating: fastText-0.9.2/website/static/docs/en/html/dictionary_8cc.html  \n",
            "  inflating: fastText-0.9.2/website/static/docs/en/html/dictionary_8h.html  \n",
            "  inflating: fastText-0.9.2/website/static/docs/en/html/dictionary_8h.js  \n",
            "  inflating: fastText-0.9.2/website/static/docs/en/html/dictionary_8h_source.html  \n",
            "  inflating: fastText-0.9.2/website/static/docs/en/html/dir_68267d1309a1af8e8297ef4c3efbcdba.html  \n",
            "  inflating: fastText-0.9.2/website/static/docs/en/html/dir_68267d1309a1af8e8297ef4c3efbcdba.js  \n",
            " extracting: fastText-0.9.2/website/static/docs/en/html/doc.png  \n",
            "  inflating: fastText-0.9.2/website/static/docs/en/html/doxygen.css  \n",
            " extracting: fastText-0.9.2/website/static/docs/en/html/doxygen.png  \n",
            "  inflating: fastText-0.9.2/website/static/docs/en/html/dynsections.js  \n",
            "  inflating: fastText-0.9.2/website/static/docs/en/html/fasttext_8cc.html  \n",
            "  inflating: fastText-0.9.2/website/static/docs/en/html/fasttext_8h.html  \n",
            "  inflating: fastText-0.9.2/website/static/docs/en/html/fasttext_8h.js  \n",
            "  inflating: fastText-0.9.2/website/static/docs/en/html/fasttext_8h_source.html  \n",
            "  inflating: fastText-0.9.2/website/static/docs/en/html/favicon.png  \n",
            "  inflating: fastText-0.9.2/website/static/docs/en/html/files.html  \n",
            "  inflating: fastText-0.9.2/website/static/docs/en/html/files.js  \n",
            " extracting: fastText-0.9.2/website/static/docs/en/html/folderclosed.png  \n",
            " extracting: fastText-0.9.2/website/static/docs/en/html/folderopen.png  \n",
            "  inflating: fastText-0.9.2/website/static/docs/en/html/functions.html  \n",
            "  inflating: fastText-0.9.2/website/static/docs/en/html/functions_0x7e.html  \n",
            "  inflating: fastText-0.9.2/website/static/docs/en/html/functions_b.html  \n",
            "  inflating: fastText-0.9.2/website/static/docs/en/html/functions_c.html  \n",
            "  inflating: fastText-0.9.2/website/static/docs/en/html/functions_d.html  \n",
            "  inflating: fastText-0.9.2/website/static/docs/en/html/functions_dup.js  \n",
            "  inflating: fastText-0.9.2/website/static/docs/en/html/functions_e.html  \n",
            "  inflating: fastText-0.9.2/website/static/docs/en/html/functions_f.html  \n",
            "  inflating: fastText-0.9.2/website/static/docs/en/html/functions_func.html  \n",
            "  inflating: fastText-0.9.2/website/static/docs/en/html/functions_g.html  \n",
            "  inflating: fastText-0.9.2/website/static/docs/en/html/functions_h.html  \n",
            "  inflating: fastText-0.9.2/website/static/docs/en/html/functions_i.html  \n",
            "  inflating: fastText-0.9.2/website/static/docs/en/html/functions_k.html  \n",
            "  inflating: fastText-0.9.2/website/static/docs/en/html/functions_l.html  \n",
            "  inflating: fastText-0.9.2/website/static/docs/en/html/functions_m.html  \n",
            "  inflating: fastText-0.9.2/website/static/docs/en/html/functions_n.html  \n",
            "  inflating: fastText-0.9.2/website/static/docs/en/html/functions_o.html  \n",
            "  inflating: fastText-0.9.2/website/static/docs/en/html/functions_p.html  \n",
            "  inflating: fastText-0.9.2/website/static/docs/en/html/functions_q.html  \n",
            "  inflating: fastText-0.9.2/website/static/docs/en/html/functions_r.html  \n",
            "  inflating: fastText-0.9.2/website/static/docs/en/html/functions_s.html  \n",
            "  inflating: fastText-0.9.2/website/static/docs/en/html/functions_t.html  \n",
            "  inflating: fastText-0.9.2/website/static/docs/en/html/functions_u.html  \n",
            "  inflating: fastText-0.9.2/website/static/docs/en/html/functions_v.html  \n",
            "  inflating: fastText-0.9.2/website/static/docs/en/html/functions_vars.html  \n",
            "  inflating: fastText-0.9.2/website/static/docs/en/html/functions_w.html  \n",
            "  inflating: fastText-0.9.2/website/static/docs/en/html/functions_z.html  \n",
            "  inflating: fastText-0.9.2/website/static/docs/en/html/globals.html  \n",
            "  inflating: fastText-0.9.2/website/static/docs/en/html/globals_defs.html  \n",
            "  inflating: fastText-0.9.2/website/static/docs/en/html/globals_func.html  \n",
            "  inflating: fastText-0.9.2/website/static/docs/en/html/index.html  \n",
            "  inflating: fastText-0.9.2/website/static/docs/en/html/jquery.js  \n",
            "  inflating: fastText-0.9.2/website/static/docs/en/html/main_8cc.html  \n",
            "  inflating: fastText-0.9.2/website/static/docs/en/html/main_8cc.js  \n",
            "  inflating: fastText-0.9.2/website/static/docs/en/html/matrix_8cc.html  \n",
            "  inflating: fastText-0.9.2/website/static/docs/en/html/matrix_8h.html  \n",
            "  inflating: fastText-0.9.2/website/static/docs/en/html/matrix_8h_source.html  \n",
            "  inflating: fastText-0.9.2/website/static/docs/en/html/menu.js  \n",
            "  inflating: fastText-0.9.2/website/static/docs/en/html/menudata.js  \n",
            "  inflating: fastText-0.9.2/website/static/docs/en/html/model_8cc.html  \n",
            "  inflating: fastText-0.9.2/website/static/docs/en/html/model_8h.html  \n",
            "  inflating: fastText-0.9.2/website/static/docs/en/html/model_8h.js  \n",
            "  inflating: fastText-0.9.2/website/static/docs/en/html/model_8h_source.html  \n",
            "  inflating: fastText-0.9.2/website/static/docs/en/html/namespacefasttext.html  \n",
            "  inflating: fastText-0.9.2/website/static/docs/en/html/namespacefasttext.js  \n",
            "  inflating: fastText-0.9.2/website/static/docs/en/html/namespacefasttext_1_1utils.html  \n",
            "  inflating: fastText-0.9.2/website/static/docs/en/html/namespacemembers.html  \n",
            "  inflating: fastText-0.9.2/website/static/docs/en/html/namespacemembers_enum.html  \n",
            "  inflating: fastText-0.9.2/website/static/docs/en/html/namespacemembers_func.html  \n",
            "  inflating: fastText-0.9.2/website/static/docs/en/html/namespacemembers_type.html  \n",
            "  inflating: fastText-0.9.2/website/static/docs/en/html/namespaces.html  \n",
            "  inflating: fastText-0.9.2/website/static/docs/en/html/namespaces.js  \n",
            " extracting: fastText-0.9.2/website/static/docs/en/html/nav_f.png  \n",
            "  inflating: fastText-0.9.2/website/static/docs/en/html/nav_g.png  \n",
            "  inflating: fastText-0.9.2/website/static/docs/en/html/nav_h.png  \n",
            "  inflating: fastText-0.9.2/website/static/docs/en/html/navtree.css  \n",
            "  inflating: fastText-0.9.2/website/static/docs/en/html/navtree.js  \n",
            "  inflating: fastText-0.9.2/website/static/docs/en/html/navtreedata.js  \n",
            "  inflating: fastText-0.9.2/website/static/docs/en/html/navtreeindex0.js  \n",
            "  inflating: fastText-0.9.2/website/static/docs/en/html/navtreeindex1.js  \n",
            "  inflating: fastText-0.9.2/website/static/docs/en/html/open.png  \n",
            "  inflating: fastText-0.9.2/website/static/docs/en/html/productquantizer_8cc.html  \n",
            "  inflating: fastText-0.9.2/website/static/docs/en/html/productquantizer_8cc.js  \n",
            "  inflating: fastText-0.9.2/website/static/docs/en/html/productquantizer_8h.html  \n",
            "  inflating: fastText-0.9.2/website/static/docs/en/html/productquantizer_8h_source.html  \n",
            "  inflating: fastText-0.9.2/website/static/docs/en/html/qmatrix_8cc.html  \n",
            "  inflating: fastText-0.9.2/website/static/docs/en/html/qmatrix_8h.html  \n",
            "  inflating: fastText-0.9.2/website/static/docs/en/html/qmatrix_8h_source.html  \n",
            "  inflating: fastText-0.9.2/website/static/docs/en/html/real_8h.html  \n",
            "  inflating: fastText-0.9.2/website/static/docs/en/html/real_8h.js  \n",
            "  inflating: fastText-0.9.2/website/static/docs/en/html/real_8h_source.html  \n",
            "  inflating: fastText-0.9.2/website/static/docs/en/html/resize.js  \n",
            " extracting: fastText-0.9.2/website/static/docs/en/html/search/.files_7.html.StRRNc  \n",
            " extracting: fastText-0.9.2/website/static/docs/en/html/search/.variables_a.html.1MGQ27  \n",
            "  inflating: fastText-0.9.2/website/static/docs/en/html/search/all_0.html  \n",
            "  inflating: fastText-0.9.2/website/static/docs/en/html/search/all_0.js  \n",
            "  inflating: fastText-0.9.2/website/static/docs/en/html/search/all_1.html  \n",
            "  inflating: fastText-0.9.2/website/static/docs/en/html/search/all_1.js  \n",
            "  inflating: fastText-0.9.2/website/static/docs/en/html/search/all_10.html  \n",
            "  inflating: fastText-0.9.2/website/static/docs/en/html/search/all_10.js  \n",
            "  inflating: fastText-0.9.2/website/static/docs/en/html/search/all_11.html  \n",
            "  inflating: fastText-0.9.2/website/static/docs/en/html/search/all_11.js  \n",
            "  inflating: fastText-0.9.2/website/static/docs/en/html/search/all_12.html  \n",
            "  inflating: fastText-0.9.2/website/static/docs/en/html/search/all_12.js  \n",
            "  inflating: fastText-0.9.2/website/static/docs/en/html/search/all_13.html  \n",
            "  inflating: fastText-0.9.2/website/static/docs/en/html/search/all_13.js  \n",
            "  inflating: fastText-0.9.2/website/static/docs/en/html/search/all_14.html  \n",
            "  inflating: fastText-0.9.2/website/static/docs/en/html/search/all_14.js  \n",
            "  inflating: fastText-0.9.2/website/static/docs/en/html/search/all_15.html  \n",
            "  inflating: fastText-0.9.2/website/static/docs/en/html/search/all_15.js  \n",
            "  inflating: fastText-0.9.2/website/static/docs/en/html/search/all_16.html  \n",
            "  inflating: fastText-0.9.2/website/static/docs/en/html/search/all_16.js  \n",
            "  inflating: fastText-0.9.2/website/static/docs/en/html/search/all_17.html  \n",
            "  inflating: fastText-0.9.2/website/static/docs/en/html/search/all_17.js  \n",
            "  inflating: fastText-0.9.2/website/static/docs/en/html/search/all_2.html  \n",
            "  inflating: fastText-0.9.2/website/static/docs/en/html/search/all_2.js  \n",
            "  inflating: fastText-0.9.2/website/static/docs/en/html/search/all_3.html  \n",
            "  inflating: fastText-0.9.2/website/static/docs/en/html/search/all_3.js  \n",
            "  inflating: fastText-0.9.2/website/static/docs/en/html/search/all_4.html  \n",
            "  inflating: fastText-0.9.2/website/static/docs/en/html/search/all_4.js  \n",
            "  inflating: fastText-0.9.2/website/static/docs/en/html/search/all_5.html  \n",
            "  inflating: fastText-0.9.2/website/static/docs/en/html/search/all_5.js  \n",
            "  inflating: fastText-0.9.2/website/static/docs/en/html/search/all_6.html  \n",
            "  inflating: fastText-0.9.2/website/static/docs/en/html/search/all_6.js  \n",
            "  inflating: fastText-0.9.2/website/static/docs/en/html/search/all_7.html  \n",
            "  inflating: fastText-0.9.2/website/static/docs/en/html/search/all_7.js  \n",
            "  inflating: fastText-0.9.2/website/static/docs/en/html/search/all_8.html  \n",
            "  inflating: fastText-0.9.2/website/static/docs/en/html/search/all_8.js  \n",
            "  inflating: fastText-0.9.2/website/static/docs/en/html/search/all_9.html  \n",
            "  inflating: fastText-0.9.2/website/static/docs/en/html/search/all_9.js  \n",
            "  inflating: fastText-0.9.2/website/static/docs/en/html/search/all_a.html  \n",
            "  inflating: fastText-0.9.2/website/static/docs/en/html/search/all_a.js  \n",
            "  inflating: fastText-0.9.2/website/static/docs/en/html/search/all_b.html  \n",
            "  inflating: fastText-0.9.2/website/static/docs/en/html/search/all_b.js  \n",
            "  inflating: fastText-0.9.2/website/static/docs/en/html/search/all_c.html  \n",
            "  inflating: fastText-0.9.2/website/static/docs/en/html/search/all_c.js  \n",
            "  inflating: fastText-0.9.2/website/static/docs/en/html/search/all_d.html  \n",
            "  inflating: fastText-0.9.2/website/static/docs/en/html/search/all_d.js  \n",
            "  inflating: fastText-0.9.2/website/static/docs/en/html/search/all_e.html  \n",
            "  inflating: fastText-0.9.2/website/static/docs/en/html/search/all_e.js  \n",
            "  inflating: fastText-0.9.2/website/static/docs/en/html/search/all_f.html  \n",
            "  inflating: fastText-0.9.2/website/static/docs/en/html/search/all_f.js  \n",
            "  inflating: fastText-0.9.2/website/static/docs/en/html/search/classes_0.html  \n",
            "  inflating: fastText-0.9.2/website/static/docs/en/html/search/classes_0.js  \n",
            "  inflating: fastText-0.9.2/website/static/docs/en/html/search/classes_1.html  \n",
            "  inflating: fastText-0.9.2/website/static/docs/en/html/search/classes_1.js  \n",
            "  inflating: fastText-0.9.2/website/static/docs/en/html/search/classes_2.html  \n",
            "  inflating: fastText-0.9.2/website/static/docs/en/html/search/classes_2.js  \n",
            "  inflating: fastText-0.9.2/website/static/docs/en/html/search/classes_3.html  \n",
            "  inflating: fastText-0.9.2/website/static/docs/en/html/search/classes_3.js  \n",
            "  inflating: fastText-0.9.2/website/static/docs/en/html/search/classes_4.html  \n",
            "  inflating: fastText-0.9.2/website/static/docs/en/html/search/classes_4.js  \n",
            "  inflating: fastText-0.9.2/website/static/docs/en/html/search/classes_5.html  \n",
            "  inflating: fastText-0.9.2/website/static/docs/en/html/search/classes_5.js  \n",
            "  inflating: fastText-0.9.2/website/static/docs/en/html/search/classes_6.html  \n",
            "  inflating: fastText-0.9.2/website/static/docs/en/html/search/classes_6.js  \n",
            "  inflating: fastText-0.9.2/website/static/docs/en/html/search/classes_7.html  \n",
            "  inflating: fastText-0.9.2/website/static/docs/en/html/search/classes_7.js  \n",
            "  inflating: fastText-0.9.2/website/static/docs/en/html/search/classes_8.html  \n",
            "  inflating: fastText-0.9.2/website/static/docs/en/html/search/classes_8.js  \n",
            " extracting: fastText-0.9.2/website/static/docs/en/html/search/close.png  \n",
            "  inflating: fastText-0.9.2/website/static/docs/en/html/search/defines_0.html  \n",
            "  inflating: fastText-0.9.2/website/static/docs/en/html/search/defines_0.js  \n",
            "  inflating: fastText-0.9.2/website/static/docs/en/html/search/defines_1.html  \n",
            "  inflating: fastText-0.9.2/website/static/docs/en/html/search/defines_1.js  \n",
            "  inflating: fastText-0.9.2/website/static/docs/en/html/search/defines_2.html  \n",
            "  inflating: fastText-0.9.2/website/static/docs/en/html/search/defines_2.js  \n",
            "  inflating: fastText-0.9.2/website/static/docs/en/html/search/defines_3.html  \n",
            "  inflating: fastText-0.9.2/website/static/docs/en/html/search/defines_3.js  \n",
            "  inflating: fastText-0.9.2/website/static/docs/en/html/search/enums_0.html  \n",
            "  inflating: fastText-0.9.2/website/static/docs/en/html/search/enums_0.js  \n",
            "  inflating: fastText-0.9.2/website/static/docs/en/html/search/enums_1.html  \n",
            "  inflating: fastText-0.9.2/website/static/docs/en/html/search/enums_1.js  \n",
            "  inflating: fastText-0.9.2/website/static/docs/en/html/search/enums_2.html  \n",
            "  inflating: fastText-0.9.2/website/static/docs/en/html/search/enums_2.js  \n",
            "  inflating: fastText-0.9.2/website/static/docs/en/html/search/enumvalues_0.html  \n",
            "  inflating: fastText-0.9.2/website/static/docs/en/html/search/enumvalues_0.js  \n",
            "  inflating: fastText-0.9.2/website/static/docs/en/html/search/enumvalues_1.html  \n",
            "  inflating: fastText-0.9.2/website/static/docs/en/html/search/enumvalues_1.js  \n",
            "  inflating: fastText-0.9.2/website/static/docs/en/html/search/enumvalues_2.html  \n",
            "  inflating: fastText-0.9.2/website/static/docs/en/html/search/enumvalues_2.js  \n",
            "  inflating: fastText-0.9.2/website/static/docs/en/html/search/enumvalues_3.html  \n",
            "  inflating: fastText-0.9.2/website/static/docs/en/html/search/enumvalues_3.js  \n",
            "  inflating: fastText-0.9.2/website/static/docs/en/html/search/enumvalues_4.html  \n",
            "  inflating: fastText-0.9.2/website/static/docs/en/html/search/enumvalues_4.js  \n",
            "  inflating: fastText-0.9.2/website/static/docs/en/html/search/enumvalues_5.html  \n",
            "  inflating: fastText-0.9.2/website/static/docs/en/html/search/enumvalues_5.js  \n",
            "  inflating: fastText-0.9.2/website/static/docs/en/html/search/files_0.html  \n",
            "  inflating: fastText-0.9.2/website/static/docs/en/html/search/files_0.js  \n",
            "  inflating: fastText-0.9.2/website/static/docs/en/html/search/files_1.html  \n",
            "  inflating: fastText-0.9.2/website/static/docs/en/html/search/files_1.js  \n",
            "  inflating: fastText-0.9.2/website/static/docs/en/html/search/files_2.html  \n",
            "  inflating: fastText-0.9.2/website/static/docs/en/html/search/files_2.js  \n",
            "  inflating: fastText-0.9.2/website/static/docs/en/html/search/files_3.html  \n",
            "  inflating: fastText-0.9.2/website/static/docs/en/html/search/files_3.js  \n",
            "  inflating: fastText-0.9.2/website/static/docs/en/html/search/files_4.html  \n",
            "  inflating: fastText-0.9.2/website/static/docs/en/html/search/files_4.js  \n",
            "  inflating: fastText-0.9.2/website/static/docs/en/html/search/files_5.html  \n",
            "  inflating: fastText-0.9.2/website/static/docs/en/html/search/files_5.js  \n",
            "  inflating: fastText-0.9.2/website/static/docs/en/html/search/files_6.html  \n",
            "  inflating: fastText-0.9.2/website/static/docs/en/html/search/files_6.js  \n",
            "  inflating: fastText-0.9.2/website/static/docs/en/html/search/files_7.html  \n",
            "  inflating: fastText-0.9.2/website/static/docs/en/html/search/files_7.js  \n",
            "  inflating: fastText-0.9.2/website/static/docs/en/html/search/files_8.html  \n",
            "  inflating: fastText-0.9.2/website/static/docs/en/html/search/files_8.js  \n",
            "  inflating: fastText-0.9.2/website/static/docs/en/html/search/functions_0.html  \n",
            "  inflating: fastText-0.9.2/website/static/docs/en/html/search/functions_0.js  \n",
            "  inflating: fastText-0.9.2/website/static/docs/en/html/search/functions_1.html  \n",
            "  inflating: fastText-0.9.2/website/static/docs/en/html/search/functions_1.js  \n",
            "  inflating: fastText-0.9.2/website/static/docs/en/html/search/functions_10.html  \n",
            "  inflating: fastText-0.9.2/website/static/docs/en/html/search/functions_10.js  \n",
            "  inflating: fastText-0.9.2/website/static/docs/en/html/search/functions_11.html  \n",
            "  inflating: fastText-0.9.2/website/static/docs/en/html/search/functions_11.js  \n",
            "  inflating: fastText-0.9.2/website/static/docs/en/html/search/functions_12.html  \n",
            "  inflating: fastText-0.9.2/website/static/docs/en/html/search/functions_12.js  \n",
            "  inflating: fastText-0.9.2/website/static/docs/en/html/search/functions_13.html  \n",
            "  inflating: fastText-0.9.2/website/static/docs/en/html/search/functions_13.js  \n",
            "  inflating: fastText-0.9.2/website/static/docs/en/html/search/functions_14.html  \n",
            "  inflating: fastText-0.9.2/website/static/docs/en/html/search/functions_14.js  \n",
            "  inflating: fastText-0.9.2/website/static/docs/en/html/search/functions_15.html  \n",
            "  inflating: fastText-0.9.2/website/static/docs/en/html/search/functions_15.js  \n",
            "  inflating: fastText-0.9.2/website/static/docs/en/html/search/functions_16.html  \n",
            "  inflating: fastText-0.9.2/website/static/docs/en/html/search/functions_16.js  \n",
            "  inflating: fastText-0.9.2/website/static/docs/en/html/search/functions_17.html  \n",
            "  inflating: fastText-0.9.2/website/static/docs/en/html/search/functions_17.js  \n",
            "  inflating: fastText-0.9.2/website/static/docs/en/html/search/functions_2.html  \n",
            "  inflating: fastText-0.9.2/website/static/docs/en/html/search/functions_2.js  \n",
            "  inflating: fastText-0.9.2/website/static/docs/en/html/search/functions_3.html  \n",
            "  inflating: fastText-0.9.2/website/static/docs/en/html/search/functions_3.js  \n",
            "  inflating: fastText-0.9.2/website/static/docs/en/html/search/functions_4.html  \n",
            "  inflating: fastText-0.9.2/website/static/docs/en/html/search/functions_4.js  \n",
            "  inflating: fastText-0.9.2/website/static/docs/en/html/search/functions_5.html  \n",
            "  inflating: fastText-0.9.2/website/static/docs/en/html/search/functions_5.js  \n",
            "  inflating: fastText-0.9.2/website/static/docs/en/html/search/functions_6.html  \n",
            "  inflating: fastText-0.9.2/website/static/docs/en/html/search/functions_6.js  \n",
            "  inflating: fastText-0.9.2/website/static/docs/en/html/search/functions_7.html  \n",
            "  inflating: fastText-0.9.2/website/static/docs/en/html/search/functions_7.js  \n",
            "  inflating: fastText-0.9.2/website/static/docs/en/html/search/functions_8.html  \n",
            "  inflating: fastText-0.9.2/website/static/docs/en/html/search/functions_8.js  \n",
            "  inflating: fastText-0.9.2/website/static/docs/en/html/search/functions_9.html  \n",
            "  inflating: fastText-0.9.2/website/static/docs/en/html/search/functions_9.js  \n",
            "  inflating: fastText-0.9.2/website/static/docs/en/html/search/functions_a.html  \n",
            "  inflating: fastText-0.9.2/website/static/docs/en/html/search/functions_a.js  \n",
            "  inflating: fastText-0.9.2/website/static/docs/en/html/search/functions_b.html  \n",
            "  inflating: fastText-0.9.2/website/static/docs/en/html/search/functions_b.js  \n",
            "  inflating: fastText-0.9.2/website/static/docs/en/html/search/functions_c.html  \n",
            "  inflating: fastText-0.9.2/website/static/docs/en/html/search/functions_c.js  \n",
            "  inflating: fastText-0.9.2/website/static/docs/en/html/search/functions_d.html  \n",
            "  inflating: fastText-0.9.2/website/static/docs/en/html/search/functions_d.js  \n",
            "  inflating: fastText-0.9.2/website/static/docs/en/html/search/functions_e.html  \n",
            "  inflating: fastText-0.9.2/website/static/docs/en/html/search/functions_e.js  \n",
            "  inflating: fastText-0.9.2/website/static/docs/en/html/search/functions_f.html  \n",
            "  inflating: fastText-0.9.2/website/static/docs/en/html/search/functions_f.js  \n",
            " extracting: fastText-0.9.2/website/static/docs/en/html/search/mag_sel.png  \n",
            "  inflating: fastText-0.9.2/website/static/docs/en/html/search/namespaces_0.html  \n",
            "  inflating: fastText-0.9.2/website/static/docs/en/html/search/namespaces_0.js  \n",
            "  inflating: fastText-0.9.2/website/static/docs/en/html/search/nomatches.html  \n",
            "  inflating: fastText-0.9.2/website/static/docs/en/html/search/search.css  \n",
            "  inflating: fastText-0.9.2/website/static/docs/en/html/search/search.js  \n",
            " extracting: fastText-0.9.2/website/static/docs/en/html/search/search_l.png  \n",
            "  inflating: fastText-0.9.2/website/static/docs/en/html/search/search_m.png  \n",
            " extracting: fastText-0.9.2/website/static/docs/en/html/search/search_r.png  \n",
            "  inflating: fastText-0.9.2/website/static/docs/en/html/search/searchdata.js  \n",
            "  inflating: fastText-0.9.2/website/static/docs/en/html/search/typedefs_0.html  \n",
            "  inflating: fastText-0.9.2/website/static/docs/en/html/search/typedefs_0.js  \n",
            "  inflating: fastText-0.9.2/website/static/docs/en/html/search/typedefs_1.html  \n",
            "  inflating: fastText-0.9.2/website/static/docs/en/html/search/typedefs_1.js  \n",
            "  inflating: fastText-0.9.2/website/static/docs/en/html/search/variables_0.html  \n",
            "  inflating: fastText-0.9.2/website/static/docs/en/html/search/variables_0.js  \n",
            "  inflating: fastText-0.9.2/website/static/docs/en/html/search/variables_1.html  \n",
            "  inflating: fastText-0.9.2/website/static/docs/en/html/search/variables_1.js  \n",
            "  inflating: fastText-0.9.2/website/static/docs/en/html/search/variables_10.html  \n",
            "  inflating: fastText-0.9.2/website/static/docs/en/html/search/variables_10.js  \n",
            "  inflating: fastText-0.9.2/website/static/docs/en/html/search/variables_11.html  \n",
            "  inflating: fastText-0.9.2/website/static/docs/en/html/search/variables_11.js  \n",
            "  inflating: fastText-0.9.2/website/static/docs/en/html/search/variables_12.html  \n",
            "  inflating: fastText-0.9.2/website/static/docs/en/html/search/variables_12.js  \n",
            "  inflating: fastText-0.9.2/website/static/docs/en/html/search/variables_13.html  \n",
            "  inflating: fastText-0.9.2/website/static/docs/en/html/search/variables_13.js  \n",
            "  inflating: fastText-0.9.2/website/static/docs/en/html/search/variables_2.html  \n",
            "  inflating: fastText-0.9.2/website/static/docs/en/html/search/variables_2.js  \n",
            "  inflating: fastText-0.9.2/website/static/docs/en/html/search/variables_3.html  \n",
            "  inflating: fastText-0.9.2/website/static/docs/en/html/search/variables_3.js  \n",
            "  inflating: fastText-0.9.2/website/static/docs/en/html/search/variables_4.html  \n",
            "  inflating: fastText-0.9.2/website/static/docs/en/html/search/variables_4.js  \n",
            "  inflating: fastText-0.9.2/website/static/docs/en/html/search/variables_5.html  \n",
            "  inflating: fastText-0.9.2/website/static/docs/en/html/search/variables_5.js  \n",
            "  inflating: fastText-0.9.2/website/static/docs/en/html/search/variables_6.html  \n",
            "  inflating: fastText-0.9.2/website/static/docs/en/html/search/variables_6.js  \n",
            "  inflating: fastText-0.9.2/website/static/docs/en/html/search/variables_7.html  \n",
            "  inflating: fastText-0.9.2/website/static/docs/en/html/search/variables_7.js  \n",
            "  inflating: fastText-0.9.2/website/static/docs/en/html/search/variables_8.html  \n",
            "  inflating: fastText-0.9.2/website/static/docs/en/html/search/variables_8.js  \n",
            "  inflating: fastText-0.9.2/website/static/docs/en/html/search/variables_9.html  \n",
            "  inflating: fastText-0.9.2/website/static/docs/en/html/search/variables_9.js  \n",
            "  inflating: fastText-0.9.2/website/static/docs/en/html/search/variables_a.html  \n",
            "  inflating: fastText-0.9.2/website/static/docs/en/html/search/variables_a.js  \n",
            "  inflating: fastText-0.9.2/website/static/docs/en/html/search/variables_b.html  \n",
            "  inflating: fastText-0.9.2/website/static/docs/en/html/search/variables_b.js  \n",
            "  inflating: fastText-0.9.2/website/static/docs/en/html/search/variables_c.html  \n",
            "  inflating: fastText-0.9.2/website/static/docs/en/html/search/variables_c.js  \n",
            "  inflating: fastText-0.9.2/website/static/docs/en/html/search/variables_d.html  \n",
            "  inflating: fastText-0.9.2/website/static/docs/en/html/search/variables_d.js  \n",
            "  inflating: fastText-0.9.2/website/static/docs/en/html/search/variables_e.html  \n",
            "  inflating: fastText-0.9.2/website/static/docs/en/html/search/variables_e.js  \n",
            "  inflating: fastText-0.9.2/website/static/docs/en/html/search/variables_f.html  \n",
            "  inflating: fastText-0.9.2/website/static/docs/en/html/search/variables_f.js  \n",
            "  inflating: fastText-0.9.2/website/static/docs/en/html/splitbar.png  \n",
            "  inflating: fastText-0.9.2/website/static/docs/en/html/structfasttext_1_1Node-members.html  \n",
            "  inflating: fastText-0.9.2/website/static/docs/en/html/structfasttext_1_1Node.html  \n",
            "  inflating: fastText-0.9.2/website/static/docs/en/html/structfasttext_1_1Node.js  \n",
            "  inflating: fastText-0.9.2/website/static/docs/en/html/structfasttext_1_1entry-members.html  \n",
            "  inflating: fastText-0.9.2/website/static/docs/en/html/structfasttext_1_1entry.html  \n",
            "  inflating: fastText-0.9.2/website/static/docs/en/html/structfasttext_1_1entry.js  \n",
            " extracting: fastText-0.9.2/website/static/docs/en/html/sync_off.png  \n",
            " extracting: fastText-0.9.2/website/static/docs/en/html/sync_on.png  \n",
            " extracting: fastText-0.9.2/website/static/docs/en/html/tab_a.png  \n",
            " extracting: fastText-0.9.2/website/static/docs/en/html/tab_b.png  \n",
            " extracting: fastText-0.9.2/website/static/docs/en/html/tab_h.png  \n",
            " extracting: fastText-0.9.2/website/static/docs/en/html/tab_s.png  \n",
            "  inflating: fastText-0.9.2/website/static/docs/en/html/tabs.css  \n",
            "  inflating: fastText-0.9.2/website/static/docs/en/html/utils_8cc.html  \n",
            "  inflating: fastText-0.9.2/website/static/docs/en/html/utils_8cc.js  \n",
            "  inflating: fastText-0.9.2/website/static/docs/en/html/utils_8h.html  \n",
            "  inflating: fastText-0.9.2/website/static/docs/en/html/utils_8h.js  \n",
            "  inflating: fastText-0.9.2/website/static/docs/en/html/utils_8h_source.html  \n",
            "  inflating: fastText-0.9.2/website/static/docs/en/html/vector_8cc.html  \n",
            "  inflating: fastText-0.9.2/website/static/docs/en/html/vector_8cc.js  \n",
            "  inflating: fastText-0.9.2/website/static/docs/en/html/vector_8h.html  \n",
            "  inflating: fastText-0.9.2/website/static/docs/en/html/vector_8h.js  \n",
            "  inflating: fastText-0.9.2/website/static/docs/en/html/vector_8h_source.html  \n",
            "  inflating: fastText-0.9.2/website/static/fasttext.css  \n",
            "  inflating: fastText-0.9.2/website/static/img/authors/armand_joulin.jpg  \n",
            "  inflating: fastText-0.9.2/website/static/img/authors/christian_puhrsch.png  \n",
            "  inflating: fastText-0.9.2/website/static/img/authors/edouard_grave.jpeg  \n",
            "  inflating: fastText-0.9.2/website/static/img/authors/piotr_bojanowski.jpg  \n",
            "  inflating: fastText-0.9.2/website/static/img/authors/tomas_mikolov.jpg  \n",
            "  inflating: fastText-0.9.2/website/static/img/blog/2016-08-18-blog-post-img1.png  \n",
            "  inflating: fastText-0.9.2/website/static/img/blog/2016-08-18-blog-post-img2.png  \n",
            "  inflating: fastText-0.9.2/website/static/img/blog/2017-05-02-blog-post-img1.jpg  \n",
            "  inflating: fastText-0.9.2/website/static/img/blog/2017-05-02-blog-post-img2.jpg  \n",
            "  inflating: fastText-0.9.2/website/static/img/blog/2017-10-02-blog-post-img1.png  \n",
            "  inflating: fastText-0.9.2/website/static/img/cbo_vs_skipgram.png  \n",
            "  inflating: fastText-0.9.2/website/static/img/fasttext-icon-api.png  \n",
            "  inflating: fastText-0.9.2/website/static/img/fasttext-icon-bg-web.png  \n",
            "  inflating: fastText-0.9.2/website/static/img/fasttext-icon-color-square.png  \n",
            "  inflating: fastText-0.9.2/website/static/img/fasttext-icon-color-web.png  \n",
            "  inflating: fastText-0.9.2/website/static/img/fasttext-icon-faq.png  \n",
            "  inflating: fastText-0.9.2/website/static/img/fasttext-icon-tutorial.png  \n",
            "  inflating: fastText-0.9.2/website/static/img/fasttext-icon-white-web.png  \n",
            "  inflating: fastText-0.9.2/website/static/img/fasttext-logo-color-web.png  \n",
            "  inflating: fastText-0.9.2/website/static/img/fasttext-logo-white-web.png  \n",
            "  inflating: fastText-0.9.2/website/static/img/logo-color.png  \n",
            "  inflating: fastText-0.9.2/website/static/img/model-black.png  \n",
            "  inflating: fastText-0.9.2/website/static/img/model-blue.png  \n",
            "  inflating: fastText-0.9.2/website/static/img/model-red.png  \n",
            "  inflating: fastText-0.9.2/website/static/img/ogimage.png  \n",
            "  inflating: fastText-0.9.2/website/static/img/oss_logo.png  \n",
            "  inflating: fastText-0.9.2/website/static/tabber.js  \n",
            "  inflating: fastText-0.9.2/wikifil.pl  \n",
            "  inflating: fastText-0.9.2/word-vector-example.sh  \n",
            "/content/gdrive/My Drive/offmychest/data_theo/fastText-0.9.2\n",
            "make: Nothing to be done for 'opt'.\n",
            "Processing /content/gdrive/My Drive/offmychest/data_theo/fastText-0.9.2\n",
            "Requirement already satisfied: pybind11>=2.2 in /usr/local/lib/python3.7/dist-packages (from fasttext==0.9.2) (2.6.2)\n",
            "Requirement already satisfied: setuptools>=0.7.0 in /usr/local/lib/python3.7/dist-packages (from fasttext==0.9.2) (56.1.0)\n",
            "Requirement already satisfied: numpy in /usr/local/lib/python3.7/dist-packages (from fasttext==0.9.2) (1.19.5)\n",
            "Building wheels for collected packages: fasttext\n",
            "  Building wheel for fasttext (setup.py) ... \u001b[?25l\u001b[?25hdone\n",
            "  Created wheel for fasttext: filename=fasttext-0.9.2-cp37-cp37m-linux_x86_64.whl size=3093353 sha256=87ef8a2362bc8170550f936142c7a89068da2974966b2706499aad893c198541\n",
            "  Stored in directory: /root/.cache/pip/wheels/80/82/ac/1ff4721f6267ab9210ce62cfaf96d36b5d0180f2ad3bbc6e9b\n",
            "Successfully built fasttext\n",
            "Installing collected packages: fasttext\n",
            "Successfully installed fasttext-0.9.2\n"
          ],
          "name": "stdout"
        }
      ]
    },
    {
      "cell_type": "code",
      "metadata": {
        "colab": {
          "base_uri": "https://localhost:8080/"
        },
        "id": "42AP0bui4acp",
        "outputId": "a3a1d6f4-45ac-4fd2-e3bf-9d8bb0ada7e0"
      },
      "source": [
        "!pip install emoji"
      ],
      "execution_count": null,
      "outputs": [
        {
          "output_type": "stream",
          "text": [
            "Collecting emoji\n",
            "\u001b[?25l  Downloading https://files.pythonhosted.org/packages/24/fa/b3368f41b95a286f8d300e323449ab4e86b85334c2e0b477e94422b8ed0f/emoji-1.2.0-py3-none-any.whl (131kB)\n",
            "\r\u001b[K     |██▌                             | 10kB 15.2MB/s eta 0:00:01\r\u001b[K     |█████                           | 20kB 20.4MB/s eta 0:00:01\r\u001b[K     |███████▌                        | 30kB 10.7MB/s eta 0:00:01\r\u001b[K     |██████████                      | 40kB 8.6MB/s eta 0:00:01\r\u001b[K     |████████████▌                   | 51kB 5.6MB/s eta 0:00:01\r\u001b[K     |███████████████                 | 61kB 6.6MB/s eta 0:00:01\r\u001b[K     |█████████████████▌              | 71kB 6.6MB/s eta 0:00:01\r\u001b[K     |████████████████████            | 81kB 6.3MB/s eta 0:00:01\r\u001b[K     |██████████████████████▌         | 92kB 6.2MB/s eta 0:00:01\r\u001b[K     |█████████████████████████       | 102kB 6.7MB/s eta 0:00:01\r\u001b[K     |███████████████████████████▌    | 112kB 6.7MB/s eta 0:00:01\r\u001b[K     |██████████████████████████████  | 122kB 6.7MB/s eta 0:00:01\r\u001b[K     |████████████████████████████████| 133kB 6.7MB/s \n",
            "\u001b[?25hInstalling collected packages: emoji\n",
            "Successfully installed emoji-1.2.0\n"
          ],
          "name": "stdout"
        }
      ]
    },
    {
      "cell_type": "markdown",
      "metadata": {
        "id": "pGtd2MAX1_KU"
      },
      "source": [
        "Here we create the dataset as a text file for Fasttext."
      ]
    },
    {
      "cell_type": "code",
      "metadata": {
        "id": "ElZJDrM0pzVk"
      },
      "source": [
        "# Fasttext modeling\n",
        "import fasttext\n",
        "# import emoji\n",
        "\n",
        "\n",
        "\n",
        "\n",
        "df_list = [(body,label) for body,label in zip(X,y)]\n",
        "\n",
        "final_text = ''\n",
        "\n",
        "for row in df_list:\n",
        "  label = row[1]\n",
        "  body = row[0]\n",
        "  if type(body) != str:\n",
        "    print('emoji here, install it please')\n",
        "    #  body = emoji.demojize(body, delimiters=(' ', ' '))\n",
        "\n",
        "  final_text += '__label__' + str(int(label)) + ' ' + str(body) + '\\n'\n",
        "\n",
        "data_text = open(\"data_text.txt\", \"w\")\n",
        "data_text.write(final_text)\n",
        "data_text.close()\n",
        "\n",
        "\n"
      ],
      "execution_count": null,
      "outputs": []
    },
    {
      "cell_type": "code",
      "metadata": {
        "colab": {
          "base_uri": "https://localhost:8080/"
        },
        "id": "Jgxa77vRIXdb",
        "outputId": "baaa166a-ca59-468b-a55a-557f65d6d0b5"
      },
      "source": [
        "# Opening a file\n",
        "file = open(\"data_text.txt\",\"r\")\n",
        "Counter = 0\n",
        "  \n",
        "# Reading from file\n",
        "Content = file.read()\n",
        "CoList = Content.split(\"\\n\")\n",
        "  \n",
        "for i in CoList:\n",
        "    if i:\n",
        "        Counter += 1\n",
        "          \n",
        "print(\"This is the number of lines in the file\")\n",
        "print(Counter)"
      ],
      "execution_count": null,
      "outputs": [
        {
          "output_type": "stream",
          "text": [
            "This is the number of lines in the file\n",
            "31356\n"
          ],
          "name": "stdout"
        }
      ]
    },
    {
      "cell_type": "code",
      "metadata": {
        "id": "_caV3_oyp_A7"
      },
      "source": [
        "!head -n 21356 data_text.txt > data.train\n",
        "!tail -n 10000 data_text.txt > data.valid"
      ],
      "execution_count": null,
      "outputs": []
    },
    {
      "cell_type": "code",
      "metadata": {
        "id": "yKVAE8GzBHu4"
      },
      "source": [
        "fasttext_model = fasttext.train_supervised(input=\"data.train\")\n",
        "# fasttext_model = fasttext.train_supervised(input=\"data.train\", wordNgrams=3, lr=0.5, epoch=10)"
      ],
      "execution_count": null,
      "outputs": []
    },
    {
      "cell_type": "code",
      "metadata": {
        "colab": {
          "base_uri": "https://localhost:8080/"
        },
        "id": "7B4DtL53xjkA",
        "outputId": "ede9b8cc-9831-4d55-eca3-6135326095e0"
      },
      "source": [
        "fasttext_model.predict('I am so sad')\n",
        "fasttext_model.predict('I am depressed')\n",
        "# fasttext_model.predict('I am so happy')"
      ],
      "execution_count": null,
      "outputs": [
        {
          "output_type": "execute_result",
          "data": {
            "text/plain": [
              "(('__label__1',), array([1.00000203]))"
            ]
          },
          "metadata": {
            "tags": []
          },
          "execution_count": 22
        }
      ]
    },
    {
      "cell_type": "code",
      "metadata": {
        "colab": {
          "base_uri": "https://localhost:8080/"
        },
        "id": "dVW1tSeJBS72",
        "outputId": "972ef74c-6317-438f-fa51-944f471a1c8f"
      },
      "source": [
        "fasttext_model.test(\"data.valid\")"
      ],
      "execution_count": null,
      "outputs": [
        {
          "output_type": "execute_result",
          "data": {
            "text/plain": [
              "(10000, 0.6275, 0.6275)"
            ]
          },
          "metadata": {
            "tags": []
          },
          "execution_count": 23
        }
      ]
    },
    {
      "cell_type": "code",
      "metadata": {
        "id": "sHbv2wR8C4EZ"
      },
      "source": [
        "fasttext_model_nowordgrams = fasttext.train_supervised(input=\"data.train\", lr=0.5, epoch=15)"
      ],
      "execution_count": null,
      "outputs": []
    },
    {
      "cell_type": "code",
      "metadata": {
        "colab": {
          "base_uri": "https://localhost:8080/"
        },
        "id": "xUvCBx2ZDCwd",
        "outputId": "a8c705d4-0cd6-451b-a3fe-6ab66f4ced25"
      },
      "source": [
        "fasttext_model_nowordgrams.test(\"data.valid\")"
      ],
      "execution_count": null,
      "outputs": [
        {
          "output_type": "execute_result",
          "data": {
            "text/plain": [
              "(10000, 0.6222, 0.6222)"
            ]
          },
          "metadata": {
            "tags": []
          },
          "execution_count": 47
        }
      ]
    },
    {
      "cell_type": "code",
      "metadata": {
        "id": "qgRsWxp4x4ug"
      },
      "source": [
        "fasttext_model_more_epochs = fasttext.train_supervised(input=\"data.train\",epoch = 25)"
      ],
      "execution_count": null,
      "outputs": []
    },
    {
      "cell_type": "code",
      "metadata": {
        "colab": {
          "base_uri": "https://localhost:8080/"
        },
        "id": "U8v-hfIKyMZR",
        "outputId": "ae747c8e-f988-4dff-e5d9-1d97eea26819"
      },
      "source": [
        "fasttext_model_more_epochs.test('data.valid')"
      ],
      "execution_count": null,
      "outputs": [
        {
          "output_type": "execute_result",
          "data": {
            "text/plain": [
              "(10000, 0.6235, 0.6235)"
            ]
          },
          "metadata": {
            "tags": []
          },
          "execution_count": 49
        }
      ]
    },
    {
      "cell_type": "code",
      "metadata": {
        "id": "-UEwC3uyySW8"
      },
      "source": [
        "fasttext_model_lr = fasttext.train_supervised(input=\"data.train\", lr = 1.0)"
      ],
      "execution_count": null,
      "outputs": []
    },
    {
      "cell_type": "code",
      "metadata": {
        "colab": {
          "base_uri": "https://localhost:8080/"
        },
        "id": "sKbeFoMsyd2G",
        "outputId": "06d5599c-1e5a-4a4f-ae89-f679782ca573"
      },
      "source": [
        "fasttext_model_lr.test('data.valid')"
      ],
      "execution_count": null,
      "outputs": [
        {
          "output_type": "execute_result",
          "data": {
            "text/plain": [
              "(10000, 0.6256, 0.6256)"
            ]
          },
          "metadata": {
            "tags": []
          },
          "execution_count": 51
        }
      ]
    },
    {
      "cell_type": "code",
      "metadata": {
        "id": "2KaxjG5dylc-"
      },
      "source": [
        "fasttext_model_more_epochs_lr = fasttext.train_supervised(input=\"data.train\", epoch = 25, lr = 1.0)"
      ],
      "execution_count": null,
      "outputs": []
    },
    {
      "cell_type": "code",
      "metadata": {
        "colab": {
          "base_uri": "https://localhost:8080/"
        },
        "id": "PXX6qFvXyuFk",
        "outputId": "1810809d-a106-460a-a055-d62f0037a766"
      },
      "source": [
        "fasttext_model_more_epochs_lr.test('data.valid')"
      ],
      "execution_count": null,
      "outputs": [
        {
          "output_type": "execute_result",
          "data": {
            "text/plain": [
              "(10000, 0.6179, 0.6179)"
            ]
          },
          "metadata": {
            "tags": []
          },
          "execution_count": 53
        }
      ]
    },
    {
      "cell_type": "code",
      "metadata": {
        "id": "i_BTcxXny2bK"
      },
      "source": [
        "fasttext_model_wg3 = fasttext.train_supervised(input=\"data.train\", lr = 0.1, wordNgrams = 2, epoch = 19)"
      ],
      "execution_count": null,
      "outputs": []
    },
    {
      "cell_type": "code",
      "metadata": {
        "colab": {
          "base_uri": "https://localhost:8080/"
        },
        "id": "DkFD7swozN31",
        "outputId": "752fbddf-c094-4f0c-b1da-552d56675ab0"
      },
      "source": [
        "fasttext_model_wg3.test('data.valid')"
      ],
      "execution_count": null,
      "outputs": [
        {
          "output_type": "execute_result",
          "data": {
            "text/plain": [
              "(10000, 0.6414, 0.6414)"
            ]
          },
          "metadata": {
            "tags": []
          },
          "execution_count": 57
        }
      ]
    },
    {
      "cell_type": "code",
      "metadata": {
        "id": "L7SxtMBy2WZn"
      },
      "source": [
        "fasttext_model_wg3.save_model(\"fasttext_model_good.bin\")"
      ],
      "execution_count": null,
      "outputs": []
    },
    {
      "cell_type": "code",
      "metadata": {
        "id": "icnRP26jA-0L"
      },
      "source": [
        "def feel(text):\n",
        "  return 'I feel like ' + text\n",
        "def sad(text):\n",
        "  return text + ', which is sad'\n",
        "def know(text):\n",
        "  return 'i know '+text\n",
        "def think(text):\n",
        "  return 'i think ' + text\n",
        "def really(text):\n",
        "  _ = text.split()[:-1]\n",
        "  _.append('really') \n",
        "  _.append(text.split()[-1])\n",
        "  s=\" \"\n",
        "  s = s.join(_)\n",
        "  return s\n",
        "def m_bias(text):\n",
        "  return 'as a man, I think '+text\n",
        "def f_bias(text):\n",
        "  return 'as a woman, I think '+text\n",
        "def life(text):\n",
        "  return \"all my life I've thought \" + text \n",
        "def depress(text):\n",
        "  return text + ', which is depressing'\n",
        "def therapist(text):\n",
        "  return \"my therapist says that \" + text"
      ],
      "execution_count": null,
      "outputs": []
    },
    {
      "cell_type": "code",
      "metadata": {
        "id": "-REkJQ-NDj3m"
      },
      "source": [
        "methods = {'feel':feel,'sad':sad,'know':know,'think':think, 'really':really, 'm_bias': m_bias, 'f_bias':f_bias, 'life':life, 'depress':depress, 'therapist':therapist}"
      ],
      "execution_count": null,
      "outputs": []
    },
    {
      "cell_type": "code",
      "metadata": {
        "id": "57lQxpo6D1he"
      },
      "source": [
        "texts = ['i have a bad feeling about this',\"that dog is so ugly i'll throw it away\",\"let's go away for the weekend\",'may the force be with you','you are selfish','my sister is hungry','this is sparta','you are not ok','the world is mine','my friend died','i have explosive diarrhea','everyone is here','someone loves me', 'i can do that', 'you are a good person','i just talked to my mom', 'i miss my family', 'i love pasta', 'spider-man is my fav superhero','i love eating',\"that's kinda cool\",'this is gonna be a long day',\"i hate going to the dentist\",\"your music is so cool\",\"i can't wait to go back home\",'he cheated on me with my sister',\"i just don't know what really happened\",'i just got my period','i need to work on myself',\"i'm just a big disappointment\",\"he's pretty gay\",\"it's not gay if you say no homo\",\"chadwick boseman should've won the oscar\",\"being alone is his biggest fear\",'i can never look him in the eyes again','he is very handsome','you should just read a book',\"he's a real gangster\",'all i want is to netflix and chill with you','all i want for christmas is you',\"my mom doesn't know i'm straight\",\"i'm so jealous of hannah montana, she has everything\",'my parents are getting a divorce',\"i'm not having dinner with that son of a bitch\",'my milkshake brings all the boys to the yard','babies are overrated',\"i'm so wet right now\",\"you shouldn't judge a book by its cover\",\"she thinks she is not racist\",'carrots are my thing']"
      ],
      "execution_count": null,
      "outputs": []
    },
    {
      "cell_type": "code",
      "metadata": {
        "colab": {
          "base_uri": "https://localhost:8080/"
        },
        "id": "LqSITww9Fwh8",
        "outputId": "a039833c-6891-4d6f-d745-81eff2800f2b"
      },
      "source": [
        "len(texts)"
      ],
      "execution_count": null,
      "outputs": [
        {
          "output_type": "execute_result",
          "data": {
            "text/plain": [
              "50"
            ]
          },
          "metadata": {
            "tags": []
          },
          "execution_count": 245
        }
      ]
    },
    {
      "cell_type": "markdown",
      "metadata": {
        "id": "uUPjwxyw6ffF"
      },
      "source": [
        ""
      ]
    },
    {
      "cell_type": "code",
      "metadata": {
        "id": "hv2MDaphD6DH"
      },
      "source": [
        "def try_methods(_model):\n",
        "  for method in methods:\n",
        "    score = 0\n",
        "    for text in texts:\n",
        "      out = methods[method](text)\n",
        "      if _model.predict(out)[0][0] == '__label__1':\n",
        "        # print(method,1)\n",
        "        score+=1\n",
        "    print(method,': ',score/len(texts))\n",
        "\n",
        "  "
      ],
      "execution_count": null,
      "outputs": []
    },
    {
      "cell_type": "code",
      "metadata": {
        "colab": {
          "base_uri": "https://localhost:8080/",
          "height": 167
        },
        "id": "Vek5qhlMEunD",
        "outputId": "d95e3d83-23e0-4824-9a1a-046634de7ca2"
      },
      "source": [
        "try_methods(fasttext_model_wg3)"
      ],
      "execution_count": null,
      "outputs": [
        {
          "output_type": "error",
          "ename": "NameError",
          "evalue": "ignored",
          "traceback": [
            "\u001b[0;31m---------------------------------------------------------------------------\u001b[0m",
            "\u001b[0;31mNameError\u001b[0m                                 Traceback (most recent call last)",
            "\u001b[0;32m<ipython-input-3-b665bba127d3>\u001b[0m in \u001b[0;36m<module>\u001b[0;34m()\u001b[0m\n\u001b[0;32m----> 1\u001b[0;31m \u001b[0mtry_methods\u001b[0m\u001b[0;34m(\u001b[0m\u001b[0mfasttext_model_wg3\u001b[0m\u001b[0;34m)\u001b[0m\u001b[0;34m\u001b[0m\u001b[0;34m\u001b[0m\u001b[0m\n\u001b[0m",
            "\u001b[0;31mNameError\u001b[0m: name 'fasttext_model_wg3' is not defined"
          ]
        }
      ]
    },
    {
      "cell_type": "code",
      "metadata": {
        "id": "I2sxbec07l-2"
      },
      "source": [
        "# fasttext_model_wg3.predict('You are selfish')\n",
        "# texts = ['you are selfish','my sister is hungry','this is sparta','you are not ok','the world is mine']\n",
        "for text in texts:\n",
        "  # test = [text, 'I feel like '+text,  text + ', which is sad', 'i know '+text, really(text), 'as a man, I think '+text,'as a woman, I think ' + text, 'all my life I have known ' + text ]\n",
        "  #[text.split()[:-1]+['really']+text.split()[-1] ].join(' ')\n",
        "  if fasttext_model_wg3.predict(text)[0][0]!='__label__0':\n",
        "    print(text)\n",
        "\n"
      ],
      "execution_count": null,
      "outputs": []
    },
    {
      "cell_type": "code",
      "metadata": {
        "colab": {
          "base_uri": "https://localhost:8080/",
          "height": 221
        },
        "id": "zG5Idf1BzBJp",
        "outputId": "7d74b486-9925-4d91-c7f7-8f4463f66207"
      },
      "source": [
        "test = [methods[method](text) for method in methods]\n",
        "for method in test:\n",
        "  _ = methods[method]('you are being selfish')\n",
        "  print(_,fasttext_model_wg3.predict(_)[0][0])\n"
      ],
      "execution_count": null,
      "outputs": [
        {
          "output_type": "error",
          "ename": "NameError",
          "evalue": "ignored",
          "traceback": [
            "\u001b[0;31m---------------------------------------------------------------------------\u001b[0m",
            "\u001b[0;31mNameError\u001b[0m                                 Traceback (most recent call last)",
            "\u001b[0;32m<ipython-input-1-c79a1ca151a0>\u001b[0m in \u001b[0;36m<module>\u001b[0;34m()\u001b[0m\n\u001b[0;32m----> 1\u001b[0;31m \u001b[0mtest\u001b[0m \u001b[0;34m=\u001b[0m \u001b[0;34m[\u001b[0m\u001b[0mmethods\u001b[0m\u001b[0;34m[\u001b[0m\u001b[0mmethod\u001b[0m\u001b[0;34m]\u001b[0m\u001b[0;34m(\u001b[0m\u001b[0mtext\u001b[0m\u001b[0;34m)\u001b[0m \u001b[0;32mfor\u001b[0m \u001b[0mmethod\u001b[0m \u001b[0;32min\u001b[0m \u001b[0mmethods\u001b[0m\u001b[0;34m]\u001b[0m\u001b[0;34m\u001b[0m\u001b[0;34m\u001b[0m\u001b[0m\n\u001b[0m\u001b[1;32m      2\u001b[0m \u001b[0;32mfor\u001b[0m \u001b[0mmethod\u001b[0m \u001b[0;32min\u001b[0m \u001b[0mtest\u001b[0m\u001b[0;34m:\u001b[0m\u001b[0;34m\u001b[0m\u001b[0;34m\u001b[0m\u001b[0m\n\u001b[1;32m      3\u001b[0m   \u001b[0m_\u001b[0m \u001b[0;34m=\u001b[0m \u001b[0mmethods\u001b[0m\u001b[0;34m[\u001b[0m\u001b[0mmethod\u001b[0m\u001b[0;34m]\u001b[0m\u001b[0;34m(\u001b[0m\u001b[0;34m'you are being selfish'\u001b[0m\u001b[0;34m)\u001b[0m\u001b[0;34m\u001b[0m\u001b[0;34m\u001b[0m\u001b[0m\n\u001b[1;32m      4\u001b[0m   \u001b[0mprint\u001b[0m\u001b[0;34m(\u001b[0m\u001b[0m_\u001b[0m\u001b[0;34m,\u001b[0m\u001b[0mfasttext_model_wg3\u001b[0m\u001b[0;34m.\u001b[0m\u001b[0mpredict\u001b[0m\u001b[0;34m(\u001b[0m\u001b[0m_\u001b[0m\u001b[0;34m)\u001b[0m\u001b[0;34m[\u001b[0m\u001b[0;36m0\u001b[0m\u001b[0;34m]\u001b[0m\u001b[0;34m[\u001b[0m\u001b[0;36m0\u001b[0m\u001b[0;34m]\u001b[0m\u001b[0;34m)\u001b[0m\u001b[0;34m\u001b[0m\u001b[0;34m\u001b[0m\u001b[0m\n",
            "\u001b[0;31mNameError\u001b[0m: name 'methods' is not defined"
          ]
        }
      ]
    },
    {
      "cell_type": "code",
      "metadata": {
        "colab": {
          "base_uri": "https://localhost:8080/"
        },
        "id": "tKqzIieECxy5",
        "outputId": "5c074f14-daa7-44a6-a9ff-37a09319bcee"
      },
      "source": [
        "for text in texts:\n",
        "  # test = [text, 'I feel like '+text,  text + ', which is sad', 'i know '+text, really(text), 'as a man, I think '+text,'as a woman, I think ' + text, 'all my life I have known ' + text ]\n",
        "  #[text.split()[:-1]+['really']+text.split()[-1] ].join(' ')\n",
        "  print('------>',text)\n",
        "  test = [methods[method](text) for method in methods]\n",
        "  for _ in test:\n",
        "    if fasttext_model_wg3.predict(_)[0][0]=='__label__1':\n",
        "      print(_)"
      ],
      "execution_count": null,
      "outputs": [
        {
          "output_type": "stream",
          "text": [
            "------> i have a bad feeling about this\n",
            "I feel like i have a bad feeling about this\n",
            "all my life I've thought i have a bad feeling about this\n",
            "i have a bad feeling about this, which is depressing\n",
            "my therapist says that i have a bad feeling about this\n",
            "------> that dog is so ugly i'll throw it away\n",
            "that dog is so ugly i'll throw it away, which is depressing\n",
            "my therapist says that that dog is so ugly i'll throw it away\n",
            "------> let's go away for the weekend\n",
            "I feel like let's go away for the weekend\n",
            "let's go away for the weekend, which is sad\n",
            "all my life I've thought let's go away for the weekend\n",
            "let's go away for the weekend, which is depressing\n",
            "my therapist says that let's go away for the weekend\n",
            "------> may the force be with you\n",
            "may the force be with you, which is depressing\n",
            "my therapist says that may the force be with you\n",
            "------> you are selfish\n",
            "I feel like you are selfish\n",
            "you are selfish, which is sad\n",
            "i know you are selfish\n",
            "you are really selfish\n",
            "as a man, I think you are selfish\n",
            "all my life I've thought you are selfish\n",
            "you are selfish, which is depressing\n",
            "my therapist says that you are selfish\n",
            "------> my sister is hungry\n",
            "------> this is sparta\n",
            "I feel like this is sparta\n",
            "i know this is sparta\n",
            "this is really sparta\n",
            "as a man, I think this is sparta\n",
            "all my life I've thought this is sparta\n",
            "this is sparta, which is depressing\n",
            "my therapist says that this is sparta\n",
            "------> you are not ok\n",
            "I feel like you are not ok\n",
            "all my life I've thought you are not ok\n",
            "you are not ok, which is depressing\n",
            "my therapist says that you are not ok\n",
            "------> the world is mine\n",
            "I feel like the world is mine\n",
            "i know the world is mine\n",
            "the world is really mine\n",
            "as a man, I think the world is mine\n",
            "all my life I've thought the world is mine\n",
            "the world is mine, which is depressing\n",
            "my therapist says that the world is mine\n",
            "------> my friend died\n",
            "I feel like my friend died\n",
            "my friend really died\n",
            "as a man, I think my friend died\n",
            "all my life I've thought my friend died\n",
            "my friend died, which is depressing\n",
            "my therapist says that my friend died\n",
            "------> i have explosive diarrhea\n",
            "I feel like i have explosive diarrhea\n",
            "i have explosive really diarrhea\n",
            "as a man, I think i have explosive diarrhea\n",
            "all my life I've thought i have explosive diarrhea\n",
            "i have explosive diarrhea, which is depressing\n",
            "my therapist says that i have explosive diarrhea\n",
            "------> everyone is here\n",
            "I feel like everyone is here\n",
            "everyone is really here\n",
            "all my life I've thought everyone is here\n",
            "everyone is here, which is depressing\n",
            "my therapist says that everyone is here\n",
            "------> someone loves me\n",
            "I feel like someone loves me\n",
            "i know someone loves me\n",
            "i think someone loves me\n",
            "someone loves really me\n",
            "as a man, I think someone loves me\n",
            "as a woman, I think someone loves me\n",
            "all my life I've thought someone loves me\n",
            "someone loves me, which is depressing\n",
            "my therapist says that someone loves me\n",
            "------> i can do that\n",
            "I feel like i can do that\n",
            "i know i can do that\n",
            "i can do really that\n",
            "as a man, I think i can do that\n",
            "all my life I've thought i can do that\n",
            "i can do that, which is depressing\n",
            "my therapist says that i can do that\n",
            "------> you are a good person\n",
            "you are a good person, which is sad\n",
            "you are a good person, which is depressing\n",
            "my therapist says that you are a good person\n",
            "------> i just talked to my mom\n",
            "I feel like i just talked to my mom\n",
            "i know i just talked to my mom\n",
            "i just talked to my really mom\n",
            "as a man, I think i just talked to my mom\n",
            "all my life I've thought i just talked to my mom\n",
            "i just talked to my mom, which is depressing\n",
            "my therapist says that i just talked to my mom\n",
            "------> i miss my family\n",
            "I feel like i miss my family\n",
            "i miss my family, which is sad\n",
            "all my life I've thought i miss my family\n",
            "i miss my family, which is depressing\n",
            "my therapist says that i miss my family\n",
            "------> i love pasta\n",
            "I feel like i love pasta\n",
            "i love really pasta\n",
            "all my life I've thought i love pasta\n",
            "i love pasta, which is depressing\n",
            "my therapist says that i love pasta\n",
            "------> spider-man is my fav superhero\n",
            "spider-man is my fav superhero, which is depressing\n",
            "my therapist says that spider-man is my fav superhero\n",
            "------> i love eating\n",
            "I feel like i love eating\n",
            "i know i love eating\n",
            "i love really eating\n",
            "as a man, I think i love eating\n",
            "all my life I've thought i love eating\n",
            "i love eating, which is depressing\n",
            "my therapist says that i love eating\n",
            "------> that's kinda cool\n",
            "that's kinda cool, which is depressing\n",
            "my therapist says that that's kinda cool\n",
            "------> this is gonna be a long day\n",
            "I feel like this is gonna be a long day\n",
            "all my life I've thought this is gonna be a long day\n",
            "this is gonna be a long day, which is depressing\n",
            "my therapist says that this is gonna be a long day\n",
            "------> i hate going to the dentist\n",
            "I feel like i hate going to the dentist\n",
            "i hate going to the dentist, which is sad\n",
            "all my life I've thought i hate going to the dentist\n",
            "i hate going to the dentist, which is depressing\n",
            "my therapist says that i hate going to the dentist\n",
            "------> your music is so cool\n",
            "I feel like your music is so cool\n",
            "your music is so cool, which is sad\n",
            "as a man, I think your music is so cool\n",
            "all my life I've thought your music is so cool\n",
            "your music is so cool, which is depressing\n",
            "my therapist says that your music is so cool\n",
            "------> i can't wait to go back home\n",
            "I feel like i can't wait to go back home\n",
            "i can't wait to go back home, which is sad\n",
            "i know i can't wait to go back home\n",
            "i can't wait to go back really home\n",
            "as a man, I think i can't wait to go back home\n",
            "all my life I've thought i can't wait to go back home\n",
            "i can't wait to go back home, which is depressing\n",
            "my therapist says that i can't wait to go back home\n",
            "------> he cheated on me with my sister\n",
            "he cheated on me with my sister, which is sad\n",
            "he cheated on me with my sister, which is depressing\n",
            "my therapist says that he cheated on me with my sister\n",
            "------> i just don't know what really happened\n",
            "I feel like i just don't know what really happened\n",
            "i just don't know what really happened, which is sad\n",
            "i know i just don't know what really happened\n",
            "as a man, I think i just don't know what really happened\n",
            "all my life I've thought i just don't know what really happened\n",
            "i just don't know what really happened, which is depressing\n",
            "my therapist says that i just don't know what really happened\n",
            "------> i just got my period\n",
            "I feel like i just got my period\n",
            "i know i just got my period\n",
            "i just got my really period\n",
            "as a man, I think i just got my period\n",
            "all my life I've thought i just got my period\n",
            "i just got my period, which is depressing\n",
            "my therapist says that i just got my period\n",
            "------> i need to work on myself\n",
            "i need to work on myself, which is depressing\n",
            "my therapist says that i need to work on myself\n",
            "------> i'm just a big disappointment\n",
            "i'm just a big disappointment, which is depressing\n",
            "my therapist says that i'm just a big disappointment\n",
            "------> he's pretty gay\n",
            "I feel like he's pretty gay\n",
            "i know he's pretty gay\n",
            "he's pretty really gay\n",
            "as a man, I think he's pretty gay\n",
            "all my life I've thought he's pretty gay\n",
            "he's pretty gay, which is depressing\n",
            "my therapist says that he's pretty gay\n",
            "------> it's not gay if you say no homo\n",
            "I feel like it's not gay if you say no homo\n",
            "it's not gay if you say no homo, which is depressing\n",
            "my therapist says that it's not gay if you say no homo\n",
            "------> chadwick boseman should've won the oscar\n",
            "I feel like chadwick boseman should've won the oscar\n",
            "i know chadwick boseman should've won the oscar\n",
            "chadwick boseman should've won the really oscar\n",
            "as a man, I think chadwick boseman should've won the oscar\n",
            "all my life I've thought chadwick boseman should've won the oscar\n",
            "chadwick boseman should've won the oscar, which is depressing\n",
            "my therapist says that chadwick boseman should've won the oscar\n",
            "------> being alone is his biggest fear\n",
            "I feel like being alone is his biggest fear\n",
            "being alone is his biggest fear, which is sad\n",
            "all my life I've thought being alone is his biggest fear\n",
            "being alone is his biggest fear, which is depressing\n",
            "my therapist says that being alone is his biggest fear\n",
            "------> i can never look him in the eyes again\n",
            "I feel like i can never look him in the eyes again\n",
            "all my life I've thought i can never look him in the eyes again\n",
            "i can never look him in the eyes again, which is depressing\n",
            "my therapist says that i can never look him in the eyes again\n",
            "------> he is very handsome\n",
            "I feel like he is very handsome\n",
            "i know he is very handsome\n",
            "he is very really handsome\n",
            "as a man, I think he is very handsome\n",
            "all my life I've thought he is very handsome\n",
            "he is very handsome, which is depressing\n",
            "my therapist says that he is very handsome\n",
            "------> you should just read a book\n",
            "you should just read a book, which is sad\n",
            "you should just read a book, which is depressing\n",
            "my therapist says that you should just read a book\n",
            "------> he's a real gangster\n",
            "he's a real gangster, which is depressing\n",
            "my therapist says that he's a real gangster\n",
            "------> all i want is to netflix and chill with you\n",
            "my therapist says that all i want is to netflix and chill with you\n",
            "------> all i want for christmas is you\n",
            "I feel like all i want for christmas is you\n",
            "all i want for christmas is you, which is sad\n",
            "all i want for christmas is really you\n",
            "all my life I've thought all i want for christmas is you\n",
            "all i want for christmas is you, which is depressing\n",
            "my therapist says that all i want for christmas is you\n",
            "------> my mom doesn't know i'm straight\n",
            "I feel like my mom doesn't know i'm straight\n",
            "all my life I've thought my mom doesn't know i'm straight\n",
            "my mom doesn't know i'm straight, which is depressing\n",
            "my therapist says that my mom doesn't know i'm straight\n",
            "------> i'm so jealous of hannah montana, she has everything\n",
            "my therapist says that i'm so jealous of hannah montana, she has everything\n",
            "------> my parents are getting a divorce\n",
            "I feel like my parents are getting a divorce\n",
            "my parents are getting a divorce, which is sad\n",
            "all my life I've thought my parents are getting a divorce\n",
            "my parents are getting a divorce, which is depressing\n",
            "my therapist says that my parents are getting a divorce\n",
            "------> i'm not having dinner with that son of a bitch\n",
            "------> my milkshake brings all the boys to the yard\n",
            "my milkshake brings all the boys to the yard, which is sad\n",
            "my milkshake brings all the boys to the yard, which is depressing\n",
            "my therapist says that my milkshake brings all the boys to the yard\n",
            "------> babies are overrated\n",
            "babies are overrated, which is depressing\n",
            "my therapist says that babies are overrated\n",
            "------> i'm so wet right now\n",
            "I feel like i'm so wet right now\n",
            "i know i'm so wet right now\n",
            "i'm so wet right really now\n",
            "all my life I've thought i'm so wet right now\n",
            "i'm so wet right now, which is depressing\n",
            "my therapist says that i'm so wet right now\n",
            "------> you shouldn't judge a book by its cover\n",
            "I feel like you shouldn't judge a book by its cover\n",
            "my therapist says that you shouldn't judge a book by its cover\n",
            "------> she thinks she is not racist\n",
            "I feel like she thinks she is not racist\n",
            "all my life I've thought she thinks she is not racist\n",
            "she thinks she is not racist, which is depressing\n",
            "my therapist says that she thinks she is not racist\n",
            "------> carrots are my thing\n",
            "I feel like carrots are my thing\n",
            "i know carrots are my thing\n",
            "as a man, I think carrots are my thing\n",
            "all my life I've thought carrots are my thing\n",
            "carrots are my thing, which is depressing\n",
            "my therapist says that carrots are my thing\n"
          ],
          "name": "stdout"
        }
      ]
    },
    {
      "cell_type": "markdown",
      "metadata": {
        "id": "91JyUXWzdZAU"
      },
      "source": [
        "## Word Embeddings: FastText\n",
        "Here, getting and saving word embeddings using FastText."
      ]
    },
    {
      "cell_type": "code",
      "metadata": {
        "id": "ZFTdymgXdWLo"
      },
      "source": [
        "# # Command line stuff - get the Wikipedia database & preprocess\n",
        "\n",
        "# %mkdir data\n",
        "# !wget -c http://mattmahoney.net/dc/enwik9.zip -P data\n",
        "# !unzip data/enwik9.zip -d data\n",
        "\n",
        "# !perl wikifil.pl data/enwik9 > data/fil9\n",
        "\n",
        "# #We can check the file by running the following command:\n",
        "\n",
        "# !head -c 80 data/fil9\n"
      ],
      "execution_count": null,
      "outputs": []
    },
    {
      "cell_type": "code",
      "metadata": {
        "id": "Bw3-X4q6eK9F"
      },
      "source": [
        "# # Python stuff - Train the representations\n",
        "\n",
        "# import fasttext\n",
        "# cbow_fasttext_vec_model = fasttext.train_unsupervised('data/fil9', \"cbow\")\n",
        "# print(\"CBOW representations trained.\")\n",
        "# skipgram_fasttext_vec_model = fasttext.train_unsupervised('data/fil9', \"skipgram\")\n",
        "# print(\"skipgram representations trained.\")\n",
        "\n",
        "# cbow_fasttext_vec_model.save_model(\"result/cbow_fil9.bin\")\n",
        "# skipgram_fasttext_vec_model.save_model(\"result/skipgram_fil9.bin\")"
      ],
      "execution_count": null,
      "outputs": []
    },
    {
      "cell_type": "code",
      "metadata": {
        "id": "Y41WRHEygVrS"
      },
      "source": [
        "# # Visualize the representations - nearest neighbors, etc.\n",
        "\n",
        "# model.get_nearest_neighbors('asparagus')"
      ],
      "execution_count": null,
      "outputs": []
    },
    {
      "cell_type": "markdown",
      "metadata": {
        "id": "hcKZMd0jksrz"
      },
      "source": [
        "##Word Embeddings: BERT"
      ]
    },
    {
      "cell_type": "markdown",
      "metadata": {
        "id": "PFvUHRKQkzwe"
      },
      "source": [
        "##Training Experiments"
      ]
    },
    {
      "cell_type": "code",
      "metadata": {
        "id": "-NRJP3D8kx_c"
      },
      "source": [
        "# import sklearn.linear_model\n",
        "\n",
        "# def word_featurizer(xs):\n",
        "#     # normalize\n",
        "#     return xs / np.sqrt((xs ** 2).sum(axis=1, keepdims=True))\n",
        "\n",
        "# def lsa_featurizer(xs):\n",
        "#     # This function takes in a matrix in which each row contains the word counts\n",
        "#     # for the given review. It should return a matrix in which each row contains\n",
        "#     # the learned feature representation of each review (e.g. the sum of LSA \n",
        "#     # word representations).\n",
        "\n",
        "#     td_matrix_tfidf = transform_tfidf(td_matrix)\n",
        "#     reps_tfidf = learn_reps_lsa(td_matrix_tfidf, 500)\n",
        "\n",
        "#     feats = np.matmul(xs, reps_tfidf)\n",
        "\n",
        "#     # normalize\n",
        "#     return feats / np.sqrt((feats ** 2).sum(axis=1, keepdims=True))\n",
        "\n",
        "# # We've implemented the remainder of the training and evaluation pipeline,\n",
        "# # so you likely won't need to modify the following four functions.\n",
        "# def combo_featurizer(xs):\n",
        "#     return np.concatenate((word_featurizer(xs), lsa_featurizer(xs)), axis=1)\n",
        "\n",
        "# def train_model(featurizer, xs, ys):\n",
        "#     xs_featurized = featurizer(xs)\n",
        "#     model = sklearn.linear_model.LogisticRegression()\n",
        "#     model.fit(xs_featurized, ys)\n",
        "#     return model\n",
        "\n",
        "# def eval_model(model, featurizer, xs, ys):\n",
        "#     xs_featurized = featurizer(xs)\n",
        "#     pred_ys = model.predict(xs_featurized)\n",
        "#     return np.mean(pred_ys == ys)\n",
        "\n",
        "# def training_experiment(name, featurizer, n_train):\n",
        "#     print(f\"{name} features, {n_train} examples\")\n",
        "#     train_xs = vectorizer.transform(train_reviews[:n_train])\n",
        "#     train_ys = train_labels[:n_train]\n",
        "#     test_xs = vectorizer.transform(test_reviews)\n",
        "#     test_ys = test_labels\n",
        "#     model = train_model(featurizer, train_xs, train_ys)\n",
        "#     acc = eval_model(model, featurizer, test_xs, test_ys)\n",
        "#     print(acc, '\\n')\n",
        "#     return acc\n",
        "\n",
        "# # The following four lines will run a training experiment with all 3k examples\n",
        "# # in training set for each feature type. `training_experiment` may be useful to\n",
        "# # you when performing experiments to answer questions in Part 1 of the Homework\n",
        "# # 1 handout.\n",
        "\n",
        "# n_train = 3000\n",
        "# training_experiment(\"word\", word_featurizer, n_train)\n",
        "# training_experiment(\"lsa\", lsa_featurizer, n_train)\n",
        "# training_experiment(\"combo\", combo_featurizer, n_train)\n",
        "# print()"
      ],
      "execution_count": null,
      "outputs": []
    },
    {
      "cell_type": "code",
      "metadata": {
        "id": "YtzBWUbOnBpa"
      },
      "source": [
        ""
      ],
      "execution_count": null,
      "outputs": []
    }
  ]
}